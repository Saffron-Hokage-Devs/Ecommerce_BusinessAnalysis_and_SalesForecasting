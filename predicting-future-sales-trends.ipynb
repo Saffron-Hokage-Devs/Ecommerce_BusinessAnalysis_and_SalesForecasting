{
 "cells": [
  {
   "cell_type": "code",
   "execution_count": 1,
   "id": "9b7e00bb",
   "metadata": {
    "_cell_guid": "b1076dfc-b9ad-4769-8c92-a6c4dae69d19",
    "_uuid": "8f2839f25d086af736a60e9eeb907d3b93b6e0e5",
    "execution": {
     "iopub.execute_input": "2021-07-28T19:10:02.368922Z",
     "iopub.status.busy": "2021-07-28T19:10:02.367179Z",
     "iopub.status.idle": "2021-07-28T19:10:02.370317Z",
     "shell.execute_reply": "2021-07-28T19:10:02.369675Z",
     "shell.execute_reply.started": "2021-07-28T19:05:39.197675Z"
    },
    "papermill": {
     "duration": 0.058213,
     "end_time": "2021-07-28T19:10:02.370482",
     "exception": false,
     "start_time": "2021-07-28T19:10:02.312269",
     "status": "completed"
    },
    "tags": []
   },
   "outputs": [],
   "source": [
    "#In this notebook,we  are going use many time Series Techniques,ARIMA Model(Auto regression),ARIMAX Model\n",
    "#Auto Arima and analysing trends"
   ]
  },
  {
   "cell_type": "markdown",
   "id": "65be86a9",
   "metadata": {
    "papermill": {
     "duration": 0.046998,
     "end_time": "2021-07-28T19:10:02.463998",
     "exception": false,
     "start_time": "2021-07-28T19:10:02.417000",
     "status": "completed"
    },
    "tags": []
   },
   "source": [
    "# Contents\n",
    " \n",
    "*  Importing Liabraries\n",
    "*  Exploring and Modifying data\n",
    "*  Sales Predictions\n",
    "*  Models Implimentation\n",
    "*  Analysing Trends"
   ]
  },
  {
   "cell_type": "code",
   "execution_count": 2,
   "id": "21706eda",
   "metadata": {
    "execution": {
     "iopub.execute_input": "2021-07-28T19:10:02.572724Z",
     "iopub.status.busy": "2021-07-28T19:10:02.567467Z",
     "iopub.status.idle": "2021-07-28T19:10:05.982590Z",
     "shell.execute_reply": "2021-07-28T19:10:05.981527Z",
     "shell.execute_reply.started": "2021-07-28T19:05:39.708454Z"
    },
    "papermill": {
     "duration": 3.470629,
     "end_time": "2021-07-28T19:10:05.982809",
     "exception": false,
     "start_time": "2021-07-28T19:10:02.512180",
     "status": "completed"
    },
    "tags": []
   },
   "outputs": [],
   "source": [
    "#importing Liabraries\n",
    "import numpy as np \n",
    "import pandas as pd \n",
    "import plotly.express as px\n",
    "import plotly.graph_objs as go\n",
    "import plotly as py\n",
    "from plotly import tools\n",
    "from plotly.offline import iplot\n",
    "import matplotlib.pyplot as plt\n",
    "from matplotlib import dates\n",
    "import seaborn as sns\n",
    "from math import sqrt\n",
    "import statsmodels.api as sm\n",
    "#from pmdarima.arima import auto_arima\n",
    "from statsmodels.tsa.stattools  import adfuller\n",
    "from statsmodels.tsa.ar_model import AutoReg, ar_select_order\n",
    "from sklearn.metrics import mean_absolute_error, mean_squared_error\n",
    "from statsmodels.tsa.statespace.sarimax import SARIMAX\n",
    "from statsmodels.tsa.seasonal import seasonal_decompose\n",
    "from statsmodels.tsa.stattools import acovf, acf\n",
    "from statsmodels.graphics.tsaplots import plot_acf\n",
    "import warnings\n",
    "warnings.filterwarnings('ignore')\n",
    "%matplotlib inline\n",
    "\n",
    "import os\n",
    "for dirname, _, filenames in os.walk('/kaggle/input'):\n",
    "\n",
    "    for filename in filenames:\n",
    "        print(os.path.join(dirname, filename))\n",
    "        \n",
    "#Graph Settings\n",
    "plt.rcParams['figure.figsize'] = (15,4)\n",
    "plt.rcParams['axes.grid'] = True\n",
    "plt.rcParams['font.size'] = 14"
   ]
  },
  {
   "cell_type": "code",
   "execution_count": 3,
   "id": "ce211cd9",
   "metadata": {
    "execution": {
     "iopub.execute_input": "2021-07-28T19:10:06.081907Z",
     "iopub.status.busy": "2021-07-28T19:10:06.081250Z",
     "iopub.status.idle": "2021-07-28T19:10:18.240053Z",
     "shell.execute_reply": "2021-07-28T19:10:18.240824Z",
     "shell.execute_reply.started": "2021-07-28T19:05:43.996776Z"
    },
    "papermill": {
     "duration": 12.210722,
     "end_time": "2021-07-28T19:10:18.241034",
     "exception": false,
     "start_time": "2021-07-28T19:10:06.030312",
     "status": "completed"
    },
    "tags": []
   },
   "outputs": [
    {
     "name": "stdout",
     "output_type": "stream",
     "text": [
      "Requirement already satisfied: pmdarima in e:\\anaconda\\lib\\site-packages (2.0.3)\n",
      "Requirement already satisfied: joblib>=0.11 in e:\\anaconda\\lib\\site-packages (from pmdarima) (1.1.0)\n",
      "Requirement already satisfied: Cython!=0.29.18,!=0.29.31,>=0.29 in e:\\anaconda\\lib\\site-packages (from pmdarima) (0.29.32)\n",
      "Requirement already satisfied: urllib3 in e:\\anaconda\\lib\\site-packages (from pmdarima) (1.26.11)\n",
      "Requirement already satisfied: scipy>=1.3.2 in e:\\anaconda\\lib\\site-packages (from pmdarima) (1.9.1)\n",
      "Requirement already satisfied: pandas>=0.19 in e:\\anaconda\\lib\\site-packages (from pmdarima) (1.4.4)\n",
      "Requirement already satisfied: numpy>=1.21.2 in e:\\anaconda\\lib\\site-packages (from pmdarima) (1.21.5)\n",
      "Requirement already satisfied: scikit-learn>=0.22 in e:\\anaconda\\lib\\site-packages (from pmdarima) (1.0.2)\n",
      "Requirement already satisfied: setuptools!=50.0.0,>=38.6.0 in e:\\anaconda\\lib\\site-packages (from pmdarima) (63.4.1)\n",
      "Requirement already satisfied: statsmodels>=0.13.2 in e:\\anaconda\\lib\\site-packages (from pmdarima) (0.13.2)\n",
      "Requirement already satisfied: python-dateutil>=2.8.1 in e:\\anaconda\\lib\\site-packages (from pandas>=0.19->pmdarima) (2.8.2)\n",
      "Requirement already satisfied: pytz>=2020.1 in e:\\anaconda\\lib\\site-packages (from pandas>=0.19->pmdarima) (2022.1)\n",
      "Requirement already satisfied: threadpoolctl>=2.0.0 in e:\\anaconda\\lib\\site-packages (from scikit-learn>=0.22->pmdarima) (2.2.0)\n",
      "Requirement already satisfied: patsy>=0.5.2 in e:\\anaconda\\lib\\site-packages (from statsmodels>=0.13.2->pmdarima) (0.5.2)\n",
      "Requirement already satisfied: packaging>=21.3 in e:\\anaconda\\lib\\site-packages (from statsmodels>=0.13.2->pmdarima) (21.3)\n",
      "Requirement already satisfied: pyparsing!=3.0.5,>=2.0.2 in e:\\anaconda\\lib\\site-packages (from packaging>=21.3->statsmodels>=0.13.2->pmdarima) (3.0.9)\n",
      "Requirement already satisfied: six in e:\\anaconda\\lib\\site-packages (from patsy>=0.5.2->statsmodels>=0.13.2->pmdarima) (1.16.0)\n"
     ]
    }
   ],
   "source": [
    "#Importing Packages\n",
    "!pip install pmdarima\n",
    "from pmdarima import auto_arima"
   ]
  },
  {
   "cell_type": "code",
   "execution_count": 4,
   "id": "b929d9ff",
   "metadata": {
    "execution": {
     "iopub.execute_input": "2021-07-28T19:10:18.357110Z",
     "iopub.status.busy": "2021-07-28T19:10:18.356384Z",
     "iopub.status.idle": "2021-07-28T19:10:24.819326Z",
     "shell.execute_reply": "2021-07-28T19:10:24.819981Z",
     "shell.execute_reply.started": "2021-07-28T19:05:54.733074Z"
    },
    "papermill": {
     "duration": 6.523282,
     "end_time": "2021-07-28T19:10:24.820220",
     "exception": false,
     "start_time": "2021-07-28T19:10:18.296938",
     "status": "completed"
    },
    "tags": []
   },
   "outputs": [],
   "source": [
    "#Loading Data\n",
    "dt = pd.read_csv(\"archive.csv\", parse_dates=[\"created_at\", \"Working Date\"], low_memory=False)"
   ]
  },
  {
   "cell_type": "code",
   "execution_count": 5,
   "id": "d972ffb7",
   "metadata": {
    "execution": {
     "iopub.execute_input": "2021-07-28T19:10:24.945068Z",
     "iopub.status.busy": "2021-07-28T19:10:24.944290Z",
     "iopub.status.idle": "2021-07-28T19:10:25.848477Z",
     "shell.execute_reply": "2021-07-28T19:10:25.847834Z",
     "shell.execute_reply.started": "2021-07-28T19:06:01.909596Z"
    },
    "papermill": {
     "duration": 0.96907,
     "end_time": "2021-07-28T19:10:25.848648",
     "exception": false,
     "start_time": "2021-07-28T19:10:24.879578",
     "status": "completed"
    },
    "tags": []
   },
   "outputs": [
    {
     "name": "stdout",
     "output_type": "stream",
     "text": [
      "<class 'pandas.core.frame.DataFrame'>\n",
      "RangeIndex: 1048575 entries, 0 to 1048574\n",
      "Data columns (total 26 columns):\n",
      " #   Column                 Non-Null Count   Dtype         \n",
      "---  ------                 --------------   -----         \n",
      " 0   item_id                584524 non-null  float64       \n",
      " 1   status                 584509 non-null  object        \n",
      " 2   created_at             584524 non-null  datetime64[ns]\n",
      " 3   sku                    584504 non-null  object        \n",
      " 4   price                  584524 non-null  float64       \n",
      " 5   qty_ordered            584524 non-null  float64       \n",
      " 6   grand_total            584524 non-null  float64       \n",
      " 7   increment_id           584524 non-null  object        \n",
      " 8   category_name_1        584360 non-null  object        \n",
      " 9   sales_commission_code  447349 non-null  object        \n",
      " 10  discount_amount        584524 non-null  float64       \n",
      " 11  payment_method         584524 non-null  object        \n",
      " 12  Working Date           584524 non-null  datetime64[ns]\n",
      " 13  BI Status              584524 non-null  object        \n",
      " 14   MV                    584524 non-null  object        \n",
      " 15  Year                   584524 non-null  float64       \n",
      " 16  Month                  584524 non-null  float64       \n",
      " 17  Customer Since         584513 non-null  object        \n",
      " 18  M-Y                    584524 non-null  object        \n",
      " 19  FY                     584524 non-null  object        \n",
      " 20  Customer ID            584513 non-null  float64       \n",
      " 21  Unnamed: 21            0 non-null       float64       \n",
      " 22  Unnamed: 22            0 non-null       float64       \n",
      " 23  Unnamed: 23            0 non-null       float64       \n",
      " 24  Unnamed: 24            0 non-null       float64       \n",
      " 25  Unnamed: 25            0 non-null       float64       \n",
      "dtypes: datetime64[ns](2), float64(13), object(11)\n",
      "memory usage: 208.0+ MB\n"
     ]
    }
   ],
   "source": [
    "#Basic EDA\n",
    "dt.info()"
   ]
  },
  {
   "cell_type": "code",
   "execution_count": 6,
   "id": "67beace4",
   "metadata": {
    "execution": {
     "iopub.execute_input": "2021-07-28T19:10:25.975708Z",
     "iopub.status.busy": "2021-07-28T19:10:25.974881Z",
     "iopub.status.idle": "2021-07-28T19:10:25.980862Z",
     "shell.execute_reply": "2021-07-28T19:10:25.979867Z",
     "shell.execute_reply.started": "2021-07-28T19:06:02.808844Z"
    },
    "papermill": {
     "duration": 0.069784,
     "end_time": "2021-07-28T19:10:25.981067",
     "exception": false,
     "start_time": "2021-07-28T19:10:25.911283",
     "status": "completed"
    },
    "tags": []
   },
   "outputs": [
    {
     "name": "stdout",
     "output_type": "stream",
     "text": [
      "Data Dimensions are:  (1048575, 26)\n",
      "Columns:  Index(['item_id', 'status', 'created_at', 'sku', 'price', 'qty_ordered',\n",
      "       'grand_total', 'increment_id', 'category_name_1',\n",
      "       'sales_commission_code', 'discount_amount', 'payment_method',\n",
      "       'Working Date', 'BI Status', ' MV ', 'Year', 'Month', 'Customer Since',\n",
      "       'M-Y', 'FY', 'Customer ID', 'Unnamed: 21', 'Unnamed: 22', 'Unnamed: 23',\n",
      "       'Unnamed: 24', 'Unnamed: 25'],\n",
      "      dtype='object')\n"
     ]
    }
   ],
   "source": [
    "print(\"Data Dimensions are: \", dt.shape)\n",
    "print(\"Columns: \", dt.columns)"
   ]
  },
  {
   "cell_type": "code",
   "execution_count": 7,
   "id": "c929f999",
   "metadata": {
    "execution": {
     "iopub.execute_input": "2021-07-28T19:10:26.269747Z",
     "iopub.status.busy": "2021-07-28T19:10:26.123443Z",
     "iopub.status.idle": "2021-07-28T19:10:27.306262Z",
     "shell.execute_reply": "2021-07-28T19:10:27.305191Z",
     "shell.execute_reply.started": "2021-07-28T19:06:02.817641Z"
    },
    "papermill": {
     "duration": 1.269443,
     "end_time": "2021-07-28T19:10:27.306453",
     "exception": false,
     "start_time": "2021-07-28T19:10:26.037010",
     "status": "completed"
    },
    "tags": []
   },
   "outputs": [
    {
     "data": {
      "text/plain": [
       "Index(['item_id', 'status', 'created_at', 'sku', 'price', 'qty_ordered',\n",
       "       'grand_total', 'increment_id', 'category_name_1',\n",
       "       'sales_commission_code', 'discount_amount', 'payment_method',\n",
       "       'Working Date', 'BI Status', 'MV', 'Year', 'Month', 'Customer Since',\n",
       "       'M-Y', 'FY', 'Customer ID'],\n",
       "      dtype='object')"
      ]
     },
     "execution_count": 7,
     "metadata": {},
     "output_type": "execute_result"
    }
   ],
   "source": [
    "dt.rename(columns = {' MV ':'MV'}, inplace = True)\n",
    "#Droping Null Columns\n",
    "dt = dt.iloc[:, :-5]\n",
    "dt = dt.dropna(how = 'all') \n",
    "dt.columns"
   ]
  },
  {
   "cell_type": "code",
   "execution_count": 8,
   "id": "7d85726a",
   "metadata": {
    "execution": {
     "iopub.execute_input": "2021-07-28T19:10:27.430331Z",
     "iopub.status.busy": "2021-07-28T19:10:27.429435Z",
     "iopub.status.idle": "2021-07-28T19:10:28.514844Z",
     "shell.execute_reply": "2021-07-28T19:10:28.514163Z",
     "shell.execute_reply.started": "2021-07-28T19:06:04.018620Z"
    },
    "papermill": {
     "duration": 1.14951,
     "end_time": "2021-07-28T19:10:28.515037",
     "exception": false,
     "start_time": "2021-07-28T19:10:27.365527",
     "status": "completed"
    },
    "tags": []
   },
   "outputs": [],
   "source": [
    "#Casting on Data types\n",
    "dt['Customer ID'] = dt['Customer ID'].astype(str)\n",
    "dt['item_id'] = dt['item_id'].astype(str)\n",
    "dt['qty_ordered'] = dt['qty_ordered'].astype(int)  \n",
    "dt['Year'] = dt['Year'].astype(int)  \n",
    "dt['Month'] = dt['Month'].astype(int) "
   ]
  },
  {
   "cell_type": "code",
   "execution_count": 9,
   "id": "98cbd70c",
   "metadata": {
    "execution": {
     "iopub.execute_input": "2021-07-28T19:10:28.636105Z",
     "iopub.status.busy": "2021-07-28T19:10:28.635346Z",
     "iopub.status.idle": "2021-07-28T19:10:29.018353Z",
     "shell.execute_reply": "2021-07-28T19:10:29.019013Z",
     "shell.execute_reply.started": "2021-07-28T19:06:05.147462Z"
    },
    "papermill": {
     "duration": 0.44665,
     "end_time": "2021-07-28T19:10:29.019221",
     "exception": false,
     "start_time": "2021-07-28T19:10:28.572571",
     "status": "completed"
    },
    "tags": []
   },
   "outputs": [
    {
     "data": {
      "text/html": [
       "<div>\n",
       "<style scoped>\n",
       "    .dataframe tbody tr th:only-of-type {\n",
       "        vertical-align: middle;\n",
       "    }\n",
       "\n",
       "    .dataframe tbody tr th {\n",
       "        vertical-align: top;\n",
       "    }\n",
       "\n",
       "    .dataframe thead th {\n",
       "        text-align: right;\n",
       "    }\n",
       "</style>\n",
       "<table border=\"1\" class=\"dataframe\">\n",
       "  <thead>\n",
       "    <tr style=\"text-align: right;\">\n",
       "      <th></th>\n",
       "      <th>price</th>\n",
       "      <th>qty_ordered</th>\n",
       "      <th>grand_total</th>\n",
       "      <th>discount_amount</th>\n",
       "      <th>Year</th>\n",
       "      <th>Month</th>\n",
       "    </tr>\n",
       "  </thead>\n",
       "  <tbody>\n",
       "    <tr>\n",
       "      <th>count</th>\n",
       "      <td>5.845240e+05</td>\n",
       "      <td>584524.000000</td>\n",
       "      <td>5.845240e+05</td>\n",
       "      <td>584524.000000</td>\n",
       "      <td>584524.000000</td>\n",
       "      <td>584524.000000</td>\n",
       "    </tr>\n",
       "    <tr>\n",
       "      <th>mean</th>\n",
       "      <td>6.348748e+03</td>\n",
       "      <td>1.296388</td>\n",
       "      <td>8.530619e+03</td>\n",
       "      <td>499.492775</td>\n",
       "      <td>2017.044115</td>\n",
       "      <td>7.167654</td>\n",
       "    </tr>\n",
       "    <tr>\n",
       "      <th>std</th>\n",
       "      <td>1.494927e+04</td>\n",
       "      <td>3.996061</td>\n",
       "      <td>6.132081e+04</td>\n",
       "      <td>1506.943046</td>\n",
       "      <td>0.707355</td>\n",
       "      <td>3.486305</td>\n",
       "    </tr>\n",
       "    <tr>\n",
       "      <th>min</th>\n",
       "      <td>0.000000e+00</td>\n",
       "      <td>1.000000</td>\n",
       "      <td>-1.594000e+03</td>\n",
       "      <td>-599.500000</td>\n",
       "      <td>2016.000000</td>\n",
       "      <td>1.000000</td>\n",
       "    </tr>\n",
       "    <tr>\n",
       "      <th>25%</th>\n",
       "      <td>3.600000e+02</td>\n",
       "      <td>1.000000</td>\n",
       "      <td>9.450000e+02</td>\n",
       "      <td>0.000000</td>\n",
       "      <td>2017.000000</td>\n",
       "      <td>4.000000</td>\n",
       "    </tr>\n",
       "    <tr>\n",
       "      <th>50%</th>\n",
       "      <td>8.990000e+02</td>\n",
       "      <td>1.000000</td>\n",
       "      <td>1.960400e+03</td>\n",
       "      <td>0.000000</td>\n",
       "      <td>2017.000000</td>\n",
       "      <td>7.000000</td>\n",
       "    </tr>\n",
       "    <tr>\n",
       "      <th>75%</th>\n",
       "      <td>4.070000e+03</td>\n",
       "      <td>1.000000</td>\n",
       "      <td>6.999000e+03</td>\n",
       "      <td>160.500000</td>\n",
       "      <td>2018.000000</td>\n",
       "      <td>11.000000</td>\n",
       "    </tr>\n",
       "    <tr>\n",
       "      <th>max</th>\n",
       "      <td>1.012626e+06</td>\n",
       "      <td>1000.000000</td>\n",
       "      <td>1.788800e+07</td>\n",
       "      <td>90300.000000</td>\n",
       "      <td>2018.000000</td>\n",
       "      <td>12.000000</td>\n",
       "    </tr>\n",
       "  </tbody>\n",
       "</table>\n",
       "</div>"
      ],
      "text/plain": [
       "              price    qty_ordered   grand_total  discount_amount  \\\n",
       "count  5.845240e+05  584524.000000  5.845240e+05    584524.000000   \n",
       "mean   6.348748e+03       1.296388  8.530619e+03       499.492775   \n",
       "std    1.494927e+04       3.996061  6.132081e+04      1506.943046   \n",
       "min    0.000000e+00       1.000000 -1.594000e+03      -599.500000   \n",
       "25%    3.600000e+02       1.000000  9.450000e+02         0.000000   \n",
       "50%    8.990000e+02       1.000000  1.960400e+03         0.000000   \n",
       "75%    4.070000e+03       1.000000  6.999000e+03       160.500000   \n",
       "max    1.012626e+06    1000.000000  1.788800e+07     90300.000000   \n",
       "\n",
       "                Year          Month  \n",
       "count  584524.000000  584524.000000  \n",
       "mean     2017.044115       7.167654  \n",
       "std         0.707355       3.486305  \n",
       "min      2016.000000       1.000000  \n",
       "25%      2017.000000       4.000000  \n",
       "50%      2017.000000       7.000000  \n",
       "75%      2018.000000      11.000000  \n",
       "max      2018.000000      12.000000  "
      ]
     },
     "execution_count": 9,
     "metadata": {},
     "output_type": "execute_result"
    }
   ],
   "source": [
    "#Data Summary\n",
    "dt.describe()"
   ]
  },
  {
   "cell_type": "code",
   "execution_count": 14,
   "id": "640b0c94",
   "metadata": {
    "execution": {
     "iopub.execute_input": "2021-07-28T19:10:29.141755Z",
     "iopub.status.busy": "2021-07-28T19:10:29.141025Z",
     "iopub.status.idle": "2021-07-28T19:10:29.510855Z",
     "shell.execute_reply": "2021-07-28T19:10:29.511415Z",
     "shell.execute_reply.started": "2021-07-28T19:06:05.850639Z"
    },
    "papermill": {
     "duration": 0.433316,
     "end_time": "2021-07-28T19:10:29.511629",
     "exception": false,
     "start_time": "2021-07-28T19:10:29.078313",
     "status": "completed"
    },
    "tags": []
   },
   "outputs": [],
   "source": [
    "dt = dt.sort_values('created_at')\n",
    "# Adding New Features\n",
    "dtg = dt.groupby('created_at')['grand_total'].sum().reset_index()\n",
    "dtq = dt.groupby('created_at')['qty_ordered'].sum().reset_index()\n",
    "dtd = dt.groupby('created_at')['discount_amount'].sum().reset_index()\n",
    "# Compute count for non-numeric values\n",
    "dts = dt.groupby('created_at')['sku'].count().reset_index() \n",
    "dtst = dt.groupby('created_at')['status'].count().reset_index()\n",
    "# New data set\n",
    "p = pd.DataFrame(dtg) \n",
    "p['qty_ordered'] = dtq['qty_ordered']\n",
    "p['discount_amount'] = dtd['discount_amount']\n",
    "p['sku'] = dts['sku']\n",
    "p['status'] = dtst['status']\n",
    "# Cumulative Sum\n",
    "p['cum_grand_total'] = p['grand_total'].cumsum()\n",
    "p['cum_qty_ordered'] = p['qty_ordered'].cumsum()\n",
    "p['cum_discount_amount'] = p['discount_amount'].cumsum()\n",
    "p['cum_sku_cnt'] = p['sku'].cumsum()\n",
    "p['cum_status_cnt'] = p['status'].cumsum()\n",
    "# Date features\n",
    "p['Dateofmonth'] = p['created_at'].dt.day\n",
    "p['Month'] = p['created_at'].dt.month\n",
    "p['Week'] = p['created_at'].dt.week\n",
    "p['Dayofweek'] = p['created_at'].dt.dayofweek  # 0 = Monday.\n",
    "p['Weekdayflg'] = (p['Dayofweek'] // 5 != 1).astype(float)\n",
    "p['Month'] = p['created_at'].dt.month\n",
    "p['Quarter'] = p['created_at'].dt.quarter\n",
    "p['Dayofyear'] = p['created_at'].dt.dayofyear\n"
   ]
  },
  {
   "cell_type": "code",
   "execution_count": 15,
   "id": "3f7d70dd",
   "metadata": {
    "execution": {
     "iopub.execute_input": "2021-07-28T19:10:29.630582Z",
     "iopub.status.busy": "2021-07-28T19:10:29.629918Z",
     "iopub.status.idle": "2021-07-28T19:10:29.650741Z",
     "shell.execute_reply": "2021-07-28T19:10:29.651322Z",
     "shell.execute_reply.started": "2021-07-28T19:06:06.488712Z"
    },
    "papermill": {
     "duration": 0.082558,
     "end_time": "2021-07-28T19:10:29.651526",
     "exception": false,
     "start_time": "2021-07-28T19:10:29.568968",
     "status": "completed"
    },
    "tags": []
   },
   "outputs": [
    {
     "data": {
      "text/html": [
       "<div>\n",
       "<style scoped>\n",
       "    .dataframe tbody tr th:only-of-type {\n",
       "        vertical-align: middle;\n",
       "    }\n",
       "\n",
       "    .dataframe tbody tr th {\n",
       "        vertical-align: top;\n",
       "    }\n",
       "\n",
       "    .dataframe thead th {\n",
       "        text-align: right;\n",
       "    }\n",
       "</style>\n",
       "<table border=\"1\" class=\"dataframe\">\n",
       "  <thead>\n",
       "    <tr style=\"text-align: right;\">\n",
       "      <th></th>\n",
       "      <th>created_at</th>\n",
       "      <th>grand_total</th>\n",
       "      <th>qty_ordered</th>\n",
       "      <th>discount_amount</th>\n",
       "      <th>sku</th>\n",
       "      <th>status</th>\n",
       "      <th>cum_grand_total</th>\n",
       "      <th>cum_qty_ordered</th>\n",
       "      <th>cum_discount_amount</th>\n",
       "      <th>cum_sku_cnt</th>\n",
       "      <th>cum_status_cnt</th>\n",
       "      <th>Dateofmonth</th>\n",
       "      <th>Month</th>\n",
       "      <th>Week</th>\n",
       "      <th>Dayofweek</th>\n",
       "      <th>Weekdayflg</th>\n",
       "      <th>Quarter</th>\n",
       "      <th>Dayofyear</th>\n",
       "    </tr>\n",
       "  </thead>\n",
       "  <tbody>\n",
       "    <tr>\n",
       "      <th>0</th>\n",
       "      <td>2016-07-01</td>\n",
       "      <td>1301026.75</td>\n",
       "      <td>621</td>\n",
       "      <td>8100.0</td>\n",
       "      <td>547</td>\n",
       "      <td>547</td>\n",
       "      <td>1301026.75</td>\n",
       "      <td>621</td>\n",
       "      <td>8100.0</td>\n",
       "      <td>547</td>\n",
       "      <td>547</td>\n",
       "      <td>1</td>\n",
       "      <td>7</td>\n",
       "      <td>26</td>\n",
       "      <td>4</td>\n",
       "      <td>1.0</td>\n",
       "      <td>3</td>\n",
       "      <td>183</td>\n",
       "    </tr>\n",
       "    <tr>\n",
       "      <th>1</th>\n",
       "      <td>2016-07-02</td>\n",
       "      <td>1408450.48</td>\n",
       "      <td>301</td>\n",
       "      <td>2502.0</td>\n",
       "      <td>260</td>\n",
       "      <td>260</td>\n",
       "      <td>2709477.23</td>\n",
       "      <td>922</td>\n",
       "      <td>10602.0</td>\n",
       "      <td>807</td>\n",
       "      <td>807</td>\n",
       "      <td>2</td>\n",
       "      <td>7</td>\n",
       "      <td>26</td>\n",
       "      <td>5</td>\n",
       "      <td>0.0</td>\n",
       "      <td>3</td>\n",
       "      <td>184</td>\n",
       "    </tr>\n",
       "    <tr>\n",
       "      <th>2</th>\n",
       "      <td>2016-07-03</td>\n",
       "      <td>2215490.88</td>\n",
       "      <td>264</td>\n",
       "      <td>1501.0</td>\n",
       "      <td>210</td>\n",
       "      <td>210</td>\n",
       "      <td>4924968.11</td>\n",
       "      <td>1186</td>\n",
       "      <td>12103.0</td>\n",
       "      <td>1017</td>\n",
       "      <td>1017</td>\n",
       "      <td>3</td>\n",
       "      <td>7</td>\n",
       "      <td>26</td>\n",
       "      <td>6</td>\n",
       "      <td>0.0</td>\n",
       "      <td>3</td>\n",
       "      <td>185</td>\n",
       "    </tr>\n",
       "    <tr>\n",
       "      <th>3</th>\n",
       "      <td>2016-07-04</td>\n",
       "      <td>1094080.25</td>\n",
       "      <td>263</td>\n",
       "      <td>4406.0</td>\n",
       "      <td>229</td>\n",
       "      <td>229</td>\n",
       "      <td>6019048.36</td>\n",
       "      <td>1449</td>\n",
       "      <td>16509.0</td>\n",
       "      <td>1246</td>\n",
       "      <td>1246</td>\n",
       "      <td>4</td>\n",
       "      <td>7</td>\n",
       "      <td>27</td>\n",
       "      <td>0</td>\n",
       "      <td>1.0</td>\n",
       "      <td>3</td>\n",
       "      <td>186</td>\n",
       "    </tr>\n",
       "    <tr>\n",
       "      <th>4</th>\n",
       "      <td>2016-07-05</td>\n",
       "      <td>913053.50</td>\n",
       "      <td>194</td>\n",
       "      <td>5230.0</td>\n",
       "      <td>168</td>\n",
       "      <td>168</td>\n",
       "      <td>6932101.86</td>\n",
       "      <td>1643</td>\n",
       "      <td>21739.0</td>\n",
       "      <td>1414</td>\n",
       "      <td>1414</td>\n",
       "      <td>5</td>\n",
       "      <td>7</td>\n",
       "      <td>27</td>\n",
       "      <td>1</td>\n",
       "      <td>1.0</td>\n",
       "      <td>3</td>\n",
       "      <td>187</td>\n",
       "    </tr>\n",
       "  </tbody>\n",
       "</table>\n",
       "</div>"
      ],
      "text/plain": [
       "  created_at  grand_total  qty_ordered  discount_amount  sku  status  \\\n",
       "0 2016-07-01   1301026.75          621           8100.0  547     547   \n",
       "1 2016-07-02   1408450.48          301           2502.0  260     260   \n",
       "2 2016-07-03   2215490.88          264           1501.0  210     210   \n",
       "3 2016-07-04   1094080.25          263           4406.0  229     229   \n",
       "4 2016-07-05    913053.50          194           5230.0  168     168   \n",
       "\n",
       "   cum_grand_total  cum_qty_ordered  cum_discount_amount  cum_sku_cnt  \\\n",
       "0       1301026.75              621               8100.0          547   \n",
       "1       2709477.23              922              10602.0          807   \n",
       "2       4924968.11             1186              12103.0         1017   \n",
       "3       6019048.36             1449              16509.0         1246   \n",
       "4       6932101.86             1643              21739.0         1414   \n",
       "\n",
       "   cum_status_cnt  Dateofmonth  Month  Week  Dayofweek  Weekdayflg  Quarter  \\\n",
       "0             547            1      7    26          4         1.0        3   \n",
       "1             807            2      7    26          5         0.0        3   \n",
       "2            1017            3      7    26          6         0.0        3   \n",
       "3            1246            4      7    27          0         1.0        3   \n",
       "4            1414            5      7    27          1         1.0        3   \n",
       "\n",
       "   Dayofyear  \n",
       "0        183  \n",
       "1        184  \n",
       "2        185  \n",
       "3        186  \n",
       "4        187  "
      ]
     },
     "execution_count": 15,
     "metadata": {},
     "output_type": "execute_result"
    }
   ],
   "source": [
    "p.head()"
   ]
  },
  {
   "cell_type": "markdown",
   "id": "812a51d3",
   "metadata": {
    "papermill": {
     "duration": 0.057181,
     "end_time": "2021-07-28T19:10:29.766495",
     "exception": false,
     "start_time": "2021-07-28T19:10:29.709314",
     "status": "completed"
    },
    "tags": []
   },
   "source": [
    "## **Creating a Sub-Dataset for Sales Predictions**"
   ]
  },
  {
   "cell_type": "code",
   "execution_count": 16,
   "id": "43fe75bb",
   "metadata": {
    "execution": {
     "iopub.execute_input": "2021-07-28T19:10:29.889266Z",
     "iopub.status.busy": "2021-07-28T19:10:29.888615Z",
     "iopub.status.idle": "2021-07-28T19:10:29.901842Z",
     "shell.execute_reply": "2021-07-28T19:10:29.902301Z",
     "shell.execute_reply.started": "2021-07-28T19:06:06.516123Z"
    },
    "papermill": {
     "duration": 0.077696,
     "end_time": "2021-07-28T19:10:29.902484",
     "exception": false,
     "start_time": "2021-07-28T19:10:29.824788",
     "status": "completed"
    },
    "tags": []
   },
   "outputs": [
    {
     "data": {
      "text/html": [
       "<div>\n",
       "<style scoped>\n",
       "    .dataframe tbody tr th:only-of-type {\n",
       "        vertical-align: middle;\n",
       "    }\n",
       "\n",
       "    .dataframe tbody tr th {\n",
       "        vertical-align: top;\n",
       "    }\n",
       "\n",
       "    .dataframe thead th {\n",
       "        text-align: right;\n",
       "    }\n",
       "</style>\n",
       "<table border=\"1\" class=\"dataframe\">\n",
       "  <thead>\n",
       "    <tr style=\"text-align: right;\">\n",
       "      <th></th>\n",
       "      <th>created_at</th>\n",
       "      <th>grand_total</th>\n",
       "    </tr>\n",
       "  </thead>\n",
       "  <tbody>\n",
       "    <tr>\n",
       "      <th>0</th>\n",
       "      <td>2016-07-01</td>\n",
       "      <td>1301026.75</td>\n",
       "    </tr>\n",
       "    <tr>\n",
       "      <th>1</th>\n",
       "      <td>2016-07-02</td>\n",
       "      <td>1408450.48</td>\n",
       "    </tr>\n",
       "    <tr>\n",
       "      <th>2</th>\n",
       "      <td>2016-07-03</td>\n",
       "      <td>2215490.88</td>\n",
       "    </tr>\n",
       "    <tr>\n",
       "      <th>3</th>\n",
       "      <td>2016-07-04</td>\n",
       "      <td>1094080.25</td>\n",
       "    </tr>\n",
       "    <tr>\n",
       "      <th>4</th>\n",
       "      <td>2016-07-05</td>\n",
       "      <td>913053.50</td>\n",
       "    </tr>\n",
       "  </tbody>\n",
       "</table>\n",
       "</div>"
      ],
      "text/plain": [
       "  created_at  grand_total\n",
       "0 2016-07-01   1301026.75\n",
       "1 2016-07-02   1408450.48\n",
       "2 2016-07-03   2215490.88\n",
       "3 2016-07-04   1094080.25\n",
       "4 2016-07-05    913053.50"
      ]
     },
     "execution_count": 16,
     "metadata": {},
     "output_type": "execute_result"
    }
   ],
   "source": [
    "#selecting first two column\n",
    "p = p.iloc[:, 0:2]  \n",
    "p.head()"
   ]
  },
  {
   "cell_type": "code",
   "execution_count": 17,
   "id": "686cd080",
   "metadata": {
    "execution": {
     "iopub.execute_input": "2021-07-28T19:10:30.019329Z",
     "iopub.status.busy": "2021-07-28T19:10:30.018704Z",
     "iopub.status.idle": "2021-07-28T19:10:30.025577Z",
     "shell.execute_reply": "2021-07-28T19:10:30.026105Z",
     "shell.execute_reply.started": "2021-07-28T19:06:06.531849Z"
    },
    "papermill": {
     "duration": 0.067094,
     "end_time": "2021-07-28T19:10:30.026283",
     "exception": false,
     "start_time": "2021-07-28T19:10:29.959189",
     "status": "completed"
    },
    "tags": []
   },
   "outputs": [],
   "source": [
    "#Converting this column to datetime\n",
    "p['created_at'] = pd.to_datetime(p['created_at'],format='%Y-%m-%d')"
   ]
  },
  {
   "cell_type": "code",
   "execution_count": 18,
   "id": "1b3f0745",
   "metadata": {
    "execution": {
     "iopub.execute_input": "2021-07-28T19:10:30.142823Z",
     "iopub.status.busy": "2021-07-28T19:10:30.142155Z",
     "iopub.status.idle": "2021-07-28T19:10:30.152148Z",
     "shell.execute_reply": "2021-07-28T19:10:30.152653Z",
     "shell.execute_reply.started": "2021-07-28T19:06:06.548679Z"
    },
    "papermill": {
     "duration": 0.070333,
     "end_time": "2021-07-28T19:10:30.152854",
     "exception": false,
     "start_time": "2021-07-28T19:10:30.082521",
     "status": "completed"
    },
    "tags": []
   },
   "outputs": [
    {
     "data": {
      "text/plain": [
       "0        Friday\n",
       "1      Saturday\n",
       "2        Sunday\n",
       "3        Monday\n",
       "4       Tuesday\n",
       "         ...   \n",
       "784      Friday\n",
       "785    Saturday\n",
       "786      Sunday\n",
       "787      Monday\n",
       "788     Tuesday\n",
       "Name: created_at, Length: 789, dtype: object"
      ]
     },
     "execution_count": 18,
     "metadata": {},
     "output_type": "execute_result"
    }
   ],
   "source": [
    "#Accessing any specific date\n",
    "p.loc[1, 'created_at'].day_name()\n",
    "#We can also convert dates into days\n",
    "p['created_at'].dt.day_name()"
   ]
  },
  {
   "cell_type": "code",
   "execution_count": 19,
   "id": "2c3d67eb",
   "metadata": {
    "execution": {
     "iopub.execute_input": "2021-07-28T19:10:30.280714Z",
     "iopub.status.busy": "2021-07-28T19:10:30.279610Z",
     "iopub.status.idle": "2021-07-28T19:10:30.284641Z",
     "shell.execute_reply": "2021-07-28T19:10:30.285413Z",
     "shell.execute_reply.started": "2021-07-28T19:06:06.569385Z"
    },
    "papermill": {
     "duration": 0.074772,
     "end_time": "2021-07-28T19:10:30.285641",
     "exception": false,
     "start_time": "2021-07-28T19:10:30.210869",
     "status": "completed"
    },
    "tags": []
   },
   "outputs": [
    {
     "data": {
      "text/html": [
       "<div>\n",
       "<style scoped>\n",
       "    .dataframe tbody tr th:only-of-type {\n",
       "        vertical-align: middle;\n",
       "    }\n",
       "\n",
       "    .dataframe tbody tr th {\n",
       "        vertical-align: top;\n",
       "    }\n",
       "\n",
       "    .dataframe thead th {\n",
       "        text-align: right;\n",
       "    }\n",
       "</style>\n",
       "<table border=\"1\" class=\"dataframe\">\n",
       "  <thead>\n",
       "    <tr style=\"text-align: right;\">\n",
       "      <th></th>\n",
       "      <th>created_at</th>\n",
       "      <th>grand_total</th>\n",
       "    </tr>\n",
       "  </thead>\n",
       "  <tbody>\n",
       "    <tr>\n",
       "      <th>0</th>\n",
       "      <td>2016-07-01</td>\n",
       "      <td>1301026.75</td>\n",
       "    </tr>\n",
       "    <tr>\n",
       "      <th>1</th>\n",
       "      <td>2016-07-02</td>\n",
       "      <td>1408450.48</td>\n",
       "    </tr>\n",
       "    <tr>\n",
       "      <th>2</th>\n",
       "      <td>2016-07-03</td>\n",
       "      <td>2215490.88</td>\n",
       "    </tr>\n",
       "    <tr>\n",
       "      <th>3</th>\n",
       "      <td>2016-07-04</td>\n",
       "      <td>1094080.25</td>\n",
       "    </tr>\n",
       "    <tr>\n",
       "      <th>4</th>\n",
       "      <td>2016-07-05</td>\n",
       "      <td>913053.50</td>\n",
       "    </tr>\n",
       "  </tbody>\n",
       "</table>\n",
       "</div>"
      ],
      "text/plain": [
       "  created_at  grand_total\n",
       "0 2016-07-01   1301026.75\n",
       "1 2016-07-02   1408450.48\n",
       "2 2016-07-03   2215490.88\n",
       "3 2016-07-04   1094080.25\n",
       "4 2016-07-05    913053.50"
      ]
     },
     "execution_count": 19,
     "metadata": {},
     "output_type": "execute_result"
    }
   ],
   "source": [
    "p.head()"
   ]
  },
  {
   "cell_type": "code",
   "execution_count": 20,
   "id": "eb117d22",
   "metadata": {
    "execution": {
     "iopub.execute_input": "2021-07-28T19:10:30.418526Z",
     "iopub.status.busy": "2021-07-28T19:10:30.417460Z",
     "iopub.status.idle": "2021-07-28T19:10:30.422828Z",
     "shell.execute_reply": "2021-07-28T19:10:30.423397Z",
     "shell.execute_reply.started": "2021-07-28T19:06:06.582855Z"
    },
    "papermill": {
     "duration": 0.077464,
     "end_time": "2021-07-28T19:10:30.423630",
     "exception": false,
     "start_time": "2021-07-28T19:10:30.346166",
     "status": "completed"
    },
    "tags": []
   },
   "outputs": [
    {
     "data": {
      "text/html": [
       "<div>\n",
       "<style scoped>\n",
       "    .dataframe tbody tr th:only-of-type {\n",
       "        vertical-align: middle;\n",
       "    }\n",
       "\n",
       "    .dataframe tbody tr th {\n",
       "        vertical-align: top;\n",
       "    }\n",
       "\n",
       "    .dataframe thead th {\n",
       "        text-align: right;\n",
       "    }\n",
       "</style>\n",
       "<table border=\"1\" class=\"dataframe\">\n",
       "  <thead>\n",
       "    <tr style=\"text-align: right;\">\n",
       "      <th></th>\n",
       "      <th>grand_total</th>\n",
       "    </tr>\n",
       "    <tr>\n",
       "      <th>created_at</th>\n",
       "      <th></th>\n",
       "    </tr>\n",
       "  </thead>\n",
       "  <tbody>\n",
       "    <tr>\n",
       "      <th>2016-07-01</th>\n",
       "      <td>1301026.75</td>\n",
       "    </tr>\n",
       "    <tr>\n",
       "      <th>2016-07-02</th>\n",
       "      <td>1408450.48</td>\n",
       "    </tr>\n",
       "    <tr>\n",
       "      <th>2016-07-03</th>\n",
       "      <td>2215490.88</td>\n",
       "    </tr>\n",
       "    <tr>\n",
       "      <th>2016-07-04</th>\n",
       "      <td>1094080.25</td>\n",
       "    </tr>\n",
       "    <tr>\n",
       "      <th>2016-07-05</th>\n",
       "      <td>913053.50</td>\n",
       "    </tr>\n",
       "  </tbody>\n",
       "</table>\n",
       "</div>"
      ],
      "text/plain": [
       "            grand_total\n",
       "created_at             \n",
       "2016-07-01   1301026.75\n",
       "2016-07-02   1408450.48\n",
       "2016-07-03   2215490.88\n",
       "2016-07-04   1094080.25\n",
       "2016-07-05    913053.50"
      ]
     },
     "execution_count": 20,
     "metadata": {},
     "output_type": "execute_result"
    }
   ],
   "source": [
    "#For Time Series,Date column must be in indexes\n",
    "p = p.set_index('created_at')\n",
    "from datetime import datetime\n",
    "p.head()"
   ]
  },
  {
   "cell_type": "code",
   "execution_count": 21,
   "id": "a90b7f9a",
   "metadata": {
    "execution": {
     "iopub.execute_input": "2021-07-28T19:10:30.552031Z",
     "iopub.status.busy": "2021-07-28T19:10:30.551204Z",
     "iopub.status.idle": "2021-07-28T19:10:30.960463Z",
     "shell.execute_reply": "2021-07-28T19:10:30.959824Z",
     "shell.execute_reply.started": "2021-07-28T19:06:06.604255Z"
    },
    "papermill": {
     "duration": 0.474508,
     "end_time": "2021-07-28T19:10:30.960638",
     "exception": false,
     "start_time": "2021-07-28T19:10:30.486130",
     "status": "completed"
    },
    "tags": []
   },
   "outputs": [
    {
     "data": {
      "image/png": "[encoded data removed]",
      "text/plain": [
       "<Figure size 1500x400 with 1 Axes>"
      ]
     },
     "metadata": {},
     "output_type": "display_data"
    }
   ],
   "source": [
    "#Plotting graph between year and Total sales\n",
    "sns.lineplot(x = \"created_at\" , y = \"grand_total\",data= p )\n",
    "plt.show()"
   ]
  },
  {
   "cell_type": "code",
   "execution_count": 22,
   "id": "6492eaa8",
   "metadata": {
    "execution": {
     "iopub.execute_input": "2021-07-28T19:10:31.095166Z",
     "iopub.status.busy": "2021-07-28T19:10:31.094456Z",
     "iopub.status.idle": "2021-07-28T19:10:31.148603Z",
     "shell.execute_reply": "2021-07-28T19:10:31.150072Z",
     "shell.execute_reply.started": "2021-07-28T19:06:06.996728Z"
    },
    "papermill": {
     "duration": 0.12765,
     "end_time": "2021-07-28T19:10:31.150482",
     "exception": false,
     "start_time": "2021-07-28T19:10:31.022832",
     "status": "completed"
    },
    "tags": []
   },
   "outputs": [
    {
     "name": "stdout",
     "output_type": "stream",
     "text": [
      "(-6.759093833685832, 2.8220803015733574e-09, 7, 781, {'1%': -3.438750669890019, '5%': -2.8652477937238703, '10%': -2.56874438754281}, 26827.99897467774)\n"
     ]
    }
   ],
   "source": [
    "#Checking Dataset is stationary or not\n",
    "results = adfuller(p['grand_total'])\n",
    "print(results)"
   ]
  },
  {
   "cell_type": "markdown",
   "id": "a512b024",
   "metadata": {
    "papermill": {
     "duration": 0.062166,
     "end_time": "2021-07-28T19:10:31.325744",
     "exception": false,
     "start_time": "2021-07-28T19:10:31.263578",
     "status": "completed"
    },
    "tags": []
   },
   "source": [
    "#### Here 0th value is (-6.75) which shows test Statistic (More negative it is more stationary dataset will be)\n",
    "#### Here 1th value is (2.82 e-09) which shows P-value (More negative p-value in data is considered as more stationary)\n",
    "## Following conditions must be fulfilled for making dataset stationary\n",
    "1. Test Statistics needed to be below -2.91 \n",
    "2. Test Statistics has less value than critical value at 5%\n",
    "3.  P-value is less than 0.5"
   ]
  },
  {
   "cell_type": "code",
   "execution_count": 23,
   "id": "ee45bc15",
   "metadata": {
    "execution": {
     "iopub.execute_input": "2021-07-28T19:10:31.461114Z",
     "iopub.status.busy": "2021-07-28T19:10:31.460388Z",
     "iopub.status.idle": "2021-07-28T19:10:31.514873Z",
     "shell.execute_reply": "2021-07-28T19:10:31.516202Z",
     "shell.execute_reply.started": "2021-07-28T19:06:07.068500Z"
    },
    "papermill": {
     "duration": 0.127289,
     "end_time": "2021-07-28T19:10:31.516533",
     "exception": false,
     "start_time": "2021-07-28T19:10:31.389244",
     "status": "completed"
    },
    "tags": []
   },
   "outputs": [
    {
     "name": "stdout",
     "output_type": "stream",
     "text": [
      "Test Statistics: -6.759094\n",
      "p-value: 0.000000\n",
      "Critical Values: \n",
      "\t1%: -3.439\n",
      "\t5%: -2.865\n",
      "\t10%: -2.569\n"
     ]
    }
   ],
   "source": [
    "#We can also print p-value,Test statistics and Critical values as follows\n",
    "results = adfuller(p['grand_total'])\n",
    "print('Test Statistics: %f' % results[0])\n",
    "print('p-value: %f' % results[1])\n",
    "print('Critical Values: ')\n",
    "for key, value in results[4].items():\n",
    "    print('\\t%s: %.3f' % (key,value))"
   ]
  },
  {
   "cell_type": "markdown",
   "id": "0efc95d1",
   "metadata": {
    "papermill": {
     "duration": 0.061779,
     "end_time": "2021-07-28T19:10:31.690576",
     "exception": false,
     "start_time": "2021-07-28T19:10:31.628797",
     "status": "completed"
    },
    "tags": []
   },
   "source": [
    "## As dataset is Stationary but we can improve its stationarity by using following techniques\n",
    "1. Difference with diff()\n",
    "2. Log\n",
    "3. Substracting previous value with Shift()\n",
    "4. Differencing Simple Moving Average\n",
    "5. Seasonal Decomposition"
   ]
  },
  {
   "cell_type": "code",
   "execution_count": 24,
   "id": "afac81c6",
   "metadata": {
    "execution": {
     "iopub.execute_input": "2021-07-28T19:10:31.836135Z",
     "iopub.status.busy": "2021-07-28T19:10:31.835255Z",
     "iopub.status.idle": "2021-07-28T19:10:31.882906Z",
     "shell.execute_reply": "2021-07-28T19:10:31.883793Z",
     "shell.execute_reply.started": "2021-07-28T19:06:07.139206Z"
    },
    "papermill": {
     "duration": 0.123037,
     "end_time": "2021-07-28T19:10:31.884111",
     "exception": false,
     "start_time": "2021-07-28T19:10:31.761074",
     "status": "completed"
    },
    "tags": []
   },
   "outputs": [
    {
     "name": "stdout",
     "output_type": "stream",
     "text": [
      "(-9.880550466636821, 3.780192339171747e-17, 18, 769, {'1%': -3.438882201132452, '5%': -2.865305765357574, '10%': -2.568775270215655}, 26830.666943617696)\n"
     ]
    }
   ],
   "source": [
    "#1.Difference with diff()\n",
    "df_stationary = p.diff().dropna()\n",
    "result = adfuller(df_stationary)\n",
    "print(result)"
   ]
  },
  {
   "cell_type": "markdown",
   "id": "5b8cde4b",
   "metadata": {
    "papermill": {
     "duration": 0.061393,
     "end_time": "2021-07-28T19:10:32.056421",
     "exception": false,
     "start_time": "2021-07-28T19:10:31.995028",
     "status": "completed"
    },
    "tags": []
   },
   "source": [
    "## 2.Log"
   ]
  },
  {
   "cell_type": "code",
   "execution_count": 25,
   "id": "1df7b505",
   "metadata": {
    "execution": {
     "iopub.execute_input": "2021-07-28T19:10:32.186039Z",
     "iopub.status.busy": "2021-07-28T19:10:32.184874Z",
     "iopub.status.idle": "2021-07-28T19:10:32.230062Z",
     "shell.execute_reply": "2021-07-28T19:10:32.231754Z",
     "shell.execute_reply.started": "2021-07-28T19:06:07.210031Z"
    },
    "papermill": {
     "duration": 0.113486,
     "end_time": "2021-07-28T19:10:32.232063",
     "exception": false,
     "start_time": "2021-07-28T19:10:32.118577",
     "status": "completed"
    },
    "tags": []
   },
   "outputs": [
    {
     "name": "stdout",
     "output_type": "stream",
     "text": [
      "(-9.880550466636821, 3.780192339171747e-17, 18, 769, {'1%': -3.438882201132452, '5%': -2.865305765357574, '10%': -2.568775270215655}, 26830.666943617696)\n"
     ]
    }
   ],
   "source": [
    "#1.Difference with diff()\n",
    "df_stationary = p.diff().dropna()\n",
    "result = adfuller(df_stationary)\n",
    "print(result)"
   ]
  },
  {
   "cell_type": "markdown",
   "id": "0af8dd3d",
   "metadata": {
    "papermill": {
     "duration": 0.060026,
     "end_time": "2021-07-28T19:10:32.400015",
     "exception": false,
     "start_time": "2021-07-28T19:10:32.339989",
     "status": "completed"
    },
    "tags": []
   },
   "source": [
    "## 3.Substracting previous value with Shift()"
   ]
  },
  {
   "cell_type": "code",
   "execution_count": 26,
   "id": "3f3e8df8",
   "metadata": {
    "execution": {
     "iopub.execute_input": "2021-07-28T19:10:32.528528Z",
     "iopub.status.busy": "2021-07-28T19:10:32.527359Z",
     "iopub.status.idle": "2021-07-28T19:10:32.569022Z",
     "shell.execute_reply": "2021-07-28T19:10:32.569941Z",
     "shell.execute_reply.started": "2021-07-28T19:06:07.271251Z"
    },
    "papermill": {
     "duration": 0.109465,
     "end_time": "2021-07-28T19:10:32.570210",
     "exception": false,
     "start_time": "2021-07-28T19:10:32.460745",
     "status": "completed"
    },
    "tags": []
   },
   "outputs": [
    {
     "ename": "NameError",
     "evalue": "name 'indexeddataset_logscale' is not defined",
     "output_type": "error",
     "traceback": [
      "\u001b[1;31m---------------------------------------------------------------------------\u001b[0m",
      "\u001b[1;31mNameError\u001b[0m                                 Traceback (most recent call last)",
      "\u001b[1;32m~\\AppData\\Local\\Temp\\ipykernel_11252\\2370528626.py\u001b[0m in \u001b[0;36m<module>\u001b[1;34m\u001b[0m\n\u001b[1;32m----> 1\u001b[1;33m \u001b[0mdatasetLogDiffShifting\u001b[0m \u001b[1;33m=\u001b[0m \u001b[0mindexeddataset_logscale\u001b[0m \u001b[1;33m-\u001b[0m \u001b[0mindexeddataset_logscale\u001b[0m\u001b[1;33m.\u001b[0m\u001b[0mshift\u001b[0m\u001b[1;33m(\u001b[0m\u001b[1;33m)\u001b[0m\u001b[1;33m\u001b[0m\u001b[1;33m\u001b[0m\u001b[0m\n\u001b[0m\u001b[0;32m      2\u001b[0m \u001b[0mdatasetLogDiffShifting\u001b[0m\u001b[1;33m.\u001b[0m\u001b[0mdropna\u001b[0m\u001b[1;33m(\u001b[0m\u001b[0minplace\u001b[0m\u001b[1;33m=\u001b[0m\u001b[1;32mTrue\u001b[0m\u001b[1;33m)\u001b[0m\u001b[1;33m\u001b[0m\u001b[1;33m\u001b[0m\u001b[0m\n\u001b[0;32m      3\u001b[0m \u001b[0mresult\u001b[0m \u001b[1;33m=\u001b[0m \u001b[0madfuller\u001b[0m\u001b[1;33m(\u001b[0m\u001b[0mdatasetLogDiffShifting\u001b[0m\u001b[1;33m)\u001b[0m\u001b[1;33m\u001b[0m\u001b[1;33m\u001b[0m\u001b[0m\n\u001b[0;32m      4\u001b[0m \u001b[0mprint\u001b[0m\u001b[1;33m(\u001b[0m\u001b[0mresult\u001b[0m\u001b[1;33m)\u001b[0m\u001b[1;33m\u001b[0m\u001b[1;33m\u001b[0m\u001b[0m\n",
      "\u001b[1;31mNameError\u001b[0m: name 'indexeddataset_logscale' is not defined"
     ]
    }
   ],
   "source": [
    "datasetLogDiffShifting = indexeddataset_logscale - indexeddataset_logscale.shift()\n",
    "datasetLogDiffShifting.dropna(inplace=True)\n",
    "result = adfuller(datasetLogDiffShifting)\n",
    "print(result)"
   ]
  },
  {
   "cell_type": "markdown",
   "id": "9667d485",
   "metadata": {
    "papermill": {
     "duration": 0.062406,
     "end_time": "2021-07-28T19:10:32.746839",
     "exception": false,
     "start_time": "2021-07-28T19:10:32.684433",
     "status": "completed"
    },
    "tags": []
   },
   "source": [
    "## 4.Differencing Simple Moving Average"
   ]
  },
  {
   "cell_type": "code",
   "execution_count": 27,
   "id": "459d0946",
   "metadata": {
    "execution": {
     "iopub.execute_input": "2021-07-28T19:10:32.879148Z",
     "iopub.status.busy": "2021-07-28T19:10:32.878292Z",
     "iopub.status.idle": "2021-07-28T19:10:32.927271Z",
     "shell.execute_reply": "2021-07-28T19:10:32.928143Z",
     "shell.execute_reply.started": "2021-07-28T19:06:07.334338Z"
    },
    "papermill": {
     "duration": 0.11993,
     "end_time": "2021-07-28T19:10:32.928471",
     "exception": false,
     "start_time": "2021-07-28T19:10:32.808541",
     "status": "completed"
    },
    "tags": []
   },
   "outputs": [
    {
     "ename": "NameError",
     "evalue": "name 'indexeddataset_logscale' is not defined",
     "output_type": "error",
     "traceback": [
      "\u001b[1;31m---------------------------------------------------------------------------\u001b[0m",
      "\u001b[1;31mNameError\u001b[0m                                 Traceback (most recent call last)",
      "\u001b[1;32m~\\AppData\\Local\\Temp\\ipykernel_11252\\3324709443.py\u001b[0m in \u001b[0;36m<module>\u001b[1;34m\u001b[0m\n\u001b[1;32m----> 1\u001b[1;33m \u001b[0mmovingaverage\u001b[0m \u001b[1;33m=\u001b[0m \u001b[0mindexeddataset_logscale\u001b[0m\u001b[1;33m.\u001b[0m\u001b[0mrolling\u001b[0m\u001b[1;33m(\u001b[0m\u001b[0mwindow\u001b[0m\u001b[1;33m=\u001b[0m\u001b[1;36m12\u001b[0m\u001b[1;33m)\u001b[0m\u001b[1;33m.\u001b[0m\u001b[0mmean\u001b[0m\u001b[1;33m(\u001b[0m\u001b[1;33m)\u001b[0m\u001b[1;33m\u001b[0m\u001b[1;33m\u001b[0m\u001b[0m\n\u001b[0m\u001b[0;32m      2\u001b[0m \u001b[0mmovingstd\u001b[0m \u001b[1;33m=\u001b[0m \u001b[0mindexeddataset_logscale\u001b[0m\u001b[1;33m.\u001b[0m\u001b[0mrolling\u001b[0m\u001b[1;33m(\u001b[0m\u001b[0mwindow\u001b[0m\u001b[1;33m=\u001b[0m\u001b[1;36m12\u001b[0m\u001b[1;33m)\u001b[0m\u001b[1;33m.\u001b[0m\u001b[0mstd\u001b[0m\u001b[1;33m(\u001b[0m\u001b[1;33m)\u001b[0m\u001b[1;33m\u001b[0m\u001b[1;33m\u001b[0m\u001b[0m\n\u001b[0;32m      3\u001b[0m \u001b[0mdatasetlogscaleminusmovingaverage\u001b[0m \u001b[1;33m=\u001b[0m \u001b[0mindexeddataset_logscale\u001b[0m \u001b[1;33m-\u001b[0m \u001b[0mmovingaverage\u001b[0m\u001b[1;33m\u001b[0m\u001b[1;33m\u001b[0m\u001b[0m\n\u001b[0;32m      4\u001b[0m \u001b[0mdatasetlogscaleminusmovingaverage\u001b[0m\u001b[1;33m.\u001b[0m\u001b[0mdropna\u001b[0m\u001b[1;33m(\u001b[0m\u001b[0minplace\u001b[0m\u001b[1;33m=\u001b[0m\u001b[1;32mTrue\u001b[0m\u001b[1;33m)\u001b[0m\u001b[1;33m\u001b[0m\u001b[1;33m\u001b[0m\u001b[0m\n\u001b[0;32m      5\u001b[0m \u001b[0mresult\u001b[0m \u001b[1;33m=\u001b[0m \u001b[0madfuller\u001b[0m\u001b[1;33m(\u001b[0m\u001b[0mdatasetlogscaleminusmovingaverage\u001b[0m\u001b[1;33m)\u001b[0m\u001b[1;33m\u001b[0m\u001b[1;33m\u001b[0m\u001b[0m\n",
      "\u001b[1;31mNameError\u001b[0m: name 'indexeddataset_logscale' is not defined"
     ]
    }
   ],
   "source": [
    "movingaverage = indexeddataset_logscale.rolling(window=12).mean()\n",
    "movingstd = indexeddataset_logscale.rolling(window=12).std()\n",
    "datasetlogscaleminusmovingaverage = indexeddataset_logscale - movingaverage\n",
    "datasetlogscaleminusmovingaverage.dropna(inplace=True)\n",
    "result = adfuller(datasetlogscaleminusmovingaverage)\n",
    "print(result)"
   ]
  },
  {
   "cell_type": "markdown",
   "id": "05bb03a7",
   "metadata": {
    "papermill": {
     "duration": 0.062843,
     "end_time": "2021-07-28T19:10:33.104864",
     "exception": false,
     "start_time": "2021-07-28T19:10:33.042021",
     "status": "completed"
    },
    "tags": []
   },
   "source": [
    "## Differencing Simple Moving Average Provides us most suitable P-value and Test statistics"
   ]
  },
  {
   "cell_type": "code",
   "execution_count": 28,
   "id": "60ec12fa",
   "metadata": {
    "execution": {
     "iopub.execute_input": "2021-07-28T19:10:33.262408Z",
     "iopub.status.busy": "2021-07-28T19:10:33.261673Z",
     "iopub.status.idle": "2021-07-28T19:10:33.494035Z",
     "shell.execute_reply": "2021-07-28T19:10:33.494536Z",
     "shell.execute_reply.started": "2021-07-28T19:06:07.402254Z"
    },
    "papermill": {
     "duration": 0.324111,
     "end_time": "2021-07-28T19:10:33.494748",
     "exception": false,
     "start_time": "2021-07-28T19:10:33.170637",
     "status": "completed"
    },
    "tags": []
   },
   "outputs": [
    {
     "ename": "NameError",
     "evalue": "name 'datasetlogscaleminusmovingaverage' is not defined",
     "output_type": "error",
     "traceback": [
      "\u001b[1;31m---------------------------------------------------------------------------\u001b[0m",
      "\u001b[1;31mNameError\u001b[0m                                 Traceback (most recent call last)",
      "\u001b[1;32m~\\AppData\\Local\\Temp\\ipykernel_11252\\1494270944.py\u001b[0m in \u001b[0;36m<module>\u001b[1;34m\u001b[0m\n\u001b[1;32m----> 1\u001b[1;33m \u001b[0mplot\u001b[0m \u001b[1;33m=\u001b[0m \u001b[0mplt\u001b[0m\u001b[1;33m.\u001b[0m\u001b[0mplot\u001b[0m\u001b[1;33m(\u001b[0m\u001b[0mdatasetlogscaleminusmovingaverage\u001b[0m\u001b[1;33m,\u001b[0m\u001b[0mcolor\u001b[0m\u001b[1;33m=\u001b[0m\u001b[1;34m'blue'\u001b[0m\u001b[1;33m,\u001b[0m\u001b[0mlabel\u001b[0m\u001b[1;33m=\u001b[0m\u001b[1;34m'Original'\u001b[0m\u001b[1;33m)\u001b[0m\u001b[1;33m\u001b[0m\u001b[1;33m\u001b[0m\u001b[0m\n\u001b[0m\u001b[0;32m      2\u001b[0m \u001b[0mmean\u001b[0m \u001b[1;33m=\u001b[0m \u001b[0mplt\u001b[0m\u001b[1;33m.\u001b[0m\u001b[0mplot\u001b[0m\u001b[1;33m(\u001b[0m\u001b[0mmovingaverage\u001b[0m\u001b[1;33m,\u001b[0m \u001b[0mcolor\u001b[0m\u001b[1;33m=\u001b[0m\u001b[1;34m'red'\u001b[0m\u001b[1;33m,\u001b[0m\u001b[0mlabel\u001b[0m\u001b[1;33m=\u001b[0m\u001b[1;34m'Rolling Mean'\u001b[0m\u001b[1;33m)\u001b[0m\u001b[1;33m\u001b[0m\u001b[1;33m\u001b[0m\u001b[0m\n\u001b[0;32m      3\u001b[0m \u001b[0mstd\u001b[0m \u001b[1;33m=\u001b[0m \u001b[0mplt\u001b[0m\u001b[1;33m.\u001b[0m\u001b[0mplot\u001b[0m\u001b[1;33m(\u001b[0m\u001b[0mmovingstd\u001b[0m\u001b[1;33m,\u001b[0m \u001b[0mcolor\u001b[0m\u001b[1;33m=\u001b[0m\u001b[1;34m'Black'\u001b[0m\u001b[1;33m,\u001b[0m\u001b[0mlabel\u001b[0m\u001b[1;33m=\u001b[0m\u001b[1;34m'Rolling STD'\u001b[0m\u001b[1;33m)\u001b[0m\u001b[1;33m\u001b[0m\u001b[1;33m\u001b[0m\u001b[0m\n\u001b[0;32m      4\u001b[0m \u001b[0mplt\u001b[0m\u001b[1;33m.\u001b[0m\u001b[0mlegend\u001b[0m\u001b[1;33m(\u001b[0m\u001b[0mloc\u001b[0m\u001b[1;33m=\u001b[0m\u001b[1;34m'best'\u001b[0m\u001b[1;33m)\u001b[0m\u001b[1;33m\u001b[0m\u001b[1;33m\u001b[0m\u001b[0m\n\u001b[0;32m      5\u001b[0m \u001b[1;31m#plt.title()\u001b[0m\u001b[1;33m\u001b[0m\u001b[1;33m\u001b[0m\u001b[0m\n",
      "\u001b[1;31mNameError\u001b[0m: name 'datasetlogscaleminusmovingaverage' is not defined"
     ]
    }
   ],
   "source": [
    "plot = plt.plot(datasetlogscaleminusmovingaverage,color='blue',label='Original')\n",
    "mean = plt.plot(movingaverage, color='red',label='Rolling Mean')\n",
    "std = plt.plot(movingstd, color='Black',label='Rolling STD')\n",
    "plt.legend(loc='best')\n",
    "#plt.title()\n",
    "plt.show(block=True)"
   ]
  },
  {
   "cell_type": "markdown",
   "id": "fdac5370",
   "metadata": {
    "papermill": {
     "duration": 0.066587,
     "end_time": "2021-07-28T19:10:33.626701",
     "exception": false,
     "start_time": "2021-07-28T19:10:33.560114",
     "status": "completed"
    },
    "tags": []
   },
   "source": [
    "## 5.Seasonal Decomposition\n",
    "##### By using this,we can find Seasonality,trends and residuals."
   ]
  },
  {
   "cell_type": "code",
   "execution_count": null,
   "id": "10fc7c83",
   "metadata": {
    "execution": {
     "iopub.execute_input": "2021-07-28T19:10:33.787837Z",
     "iopub.status.busy": "2021-07-28T19:10:33.786983Z",
     "iopub.status.idle": "2021-07-28T19:10:34.795770Z",
     "shell.execute_reply": "2021-07-28T19:10:34.796263Z",
     "shell.execute_reply.started": "2021-07-28T19:06:07.698220Z"
    },
    "papermill": {
     "duration": 1.101839,
     "end_time": "2021-07-28T19:10:34.796447",
     "exception": false,
     "start_time": "2021-07-28T19:10:33.694608",
     "status": "completed"
    },
    "tags": []
   },
   "outputs": [],
   "source": [
    "from statsmodels.tsa.seasonal import seasonal_decompose\n",
    "decomposition = seasonal_decompose(datasetlogscaleminusmovingaverage)\n",
    "trend = decomposition.trend\n",
    "seasonal = decomposition.seasonal\n",
    "residual = decomposition.resid\n",
    "plt.figure(figsize=(12,7))\n",
    "plt.subplot(411)\n",
    "plt.plot(datasetlogscaleminusmovingaverage, label='Original')\n",
    "plt.legend(loc='best')\n",
    "plt.subplot(412)\n",
    "plt.plot(trend,label='Trend')\n",
    "plt.legend(loc='best')\n",
    "plt.subplot(413)\n",
    "plt.plot(seasonal,label='Seasonality')\n",
    "plt.legend(loc='best')\n",
    "plt.subplot(414)\n",
    "plt.plot(residual,label='Residuals')\n",
    "plt.legend(loc='best')"
   ]
  },
  {
   "cell_type": "code",
   "execution_count": null,
   "id": "bec868f5",
   "metadata": {
    "execution": {
     "iopub.execute_input": "2021-07-28T19:10:34.944566Z",
     "iopub.status.busy": "2021-07-28T19:10:34.943761Z",
     "iopub.status.idle": "2021-07-28T19:10:34.950033Z",
     "shell.execute_reply": "2021-07-28T19:10:34.950544Z",
     "shell.execute_reply.started": "2021-07-28T19:06:08.672872Z"
    },
    "papermill": {
     "duration": 0.085694,
     "end_time": "2021-07-28T19:10:34.950730",
     "exception": false,
     "start_time": "2021-07-28T19:10:34.865036",
     "status": "completed"
    },
    "tags": []
   },
   "outputs": [],
   "source": [
    "datasetlogscaleminusmovingaverage.head()"
   ]
  },
  {
   "cell_type": "code",
   "execution_count": null,
   "id": "0cca8b2f",
   "metadata": {
    "execution": {
     "iopub.execute_input": "2021-07-28T19:10:35.095582Z",
     "iopub.status.busy": "2021-07-28T19:10:35.094786Z",
     "iopub.status.idle": "2021-07-28T19:10:35.099498Z",
     "shell.execute_reply": "2021-07-28T19:10:35.098893Z",
     "shell.execute_reply.started": "2021-07-28T19:06:08.684177Z"
    },
    "papermill": {
     "duration": 0.079116,
     "end_time": "2021-07-28T19:10:35.099636",
     "exception": false,
     "start_time": "2021-07-28T19:10:35.020520",
     "status": "completed"
    },
    "tags": []
   },
   "outputs": [],
   "source": [
    "type(datasetlogscaleminusmovingaverage)"
   ]
  },
  {
   "cell_type": "code",
   "execution_count": null,
   "id": "30a05d27",
   "metadata": {
    "execution": {
     "iopub.execute_input": "2021-07-28T19:10:35.248642Z",
     "iopub.status.busy": "2021-07-28T19:10:35.247760Z",
     "iopub.status.idle": "2021-07-28T19:10:35.252904Z",
     "shell.execute_reply": "2021-07-28T19:10:35.252259Z",
     "shell.execute_reply.started": "2021-07-28T19:06:08.699543Z"
    },
    "papermill": {
     "duration": 0.084729,
     "end_time": "2021-07-28T19:10:35.253040",
     "exception": false,
     "start_time": "2021-07-28T19:10:35.168311",
     "status": "completed"
    },
    "tags": []
   },
   "outputs": [],
   "source": [
    "#Converting above from Series to dataframe\n",
    "datasetlogscaleminusmovingaverage = pd.Series(datasetlogscaleminusmovingaverage)\n",
    "new_dataset = datasetlogscaleminusmovingaverage.to_frame()\n",
    "new_dataset.head()"
   ]
  },
  {
   "cell_type": "code",
   "execution_count": null,
   "id": "8c97e9e3",
   "metadata": {
    "execution": {
     "iopub.execute_input": "2021-07-28T19:10:35.396843Z",
     "iopub.status.busy": "2021-07-28T19:10:35.395958Z",
     "iopub.status.idle": "2021-07-28T19:10:35.400657Z",
     "shell.execute_reply": "2021-07-28T19:10:35.400098Z",
     "shell.execute_reply.started": "2021-07-28T19:06:08.717718Z"
    },
    "papermill": {
     "duration": 0.079114,
     "end_time": "2021-07-28T19:10:35.400814",
     "exception": false,
     "start_time": "2021-07-28T19:10:35.321700",
     "status": "completed"
    },
    "tags": []
   },
   "outputs": [],
   "source": [
    "type(new_dataset)"
   ]
  },
  {
   "cell_type": "markdown",
   "id": "3780c259",
   "metadata": {
    "papermill": {
     "duration": 0.068783,
     "end_time": "2021-07-28T19:10:35.538900",
     "exception": false,
     "start_time": "2021-07-28T19:10:35.470117",
     "status": "completed"
    },
    "tags": []
   },
   "source": [
    "# Applying ARIMA Model(Auto Regression)"
   ]
  },
  {
   "cell_type": "code",
   "execution_count": null,
   "id": "1d8bc9b4",
   "metadata": {
    "execution": {
     "iopub.execute_input": "2021-07-28T19:10:35.708292Z",
     "iopub.status.busy": "2021-07-28T19:10:35.699219Z",
     "iopub.status.idle": "2021-07-28T19:10:35.952248Z",
     "shell.execute_reply": "2021-07-28T19:10:35.952714Z",
     "shell.execute_reply.started": "2021-07-28T19:06:08.738699Z"
    },
    "papermill": {
     "duration": 0.344252,
     "end_time": "2021-07-28T19:10:35.952889",
     "exception": false,
     "start_time": "2021-07-28T19:10:35.608637",
     "status": "completed"
    },
    "tags": []
   },
   "outputs": [],
   "source": [
    "#Autocorrelation\n",
    "ecom_df = new_dataset\n",
    "acf(ecom_df, fft=False)\n",
    "sm.graphics.tsa.plot_acf(ecom_df.values.squeeze(), lags=60);"
   ]
  },
  {
   "cell_type": "code",
   "execution_count": null,
   "id": "8922f584",
   "metadata": {
    "execution": {
     "iopub.execute_input": "2021-07-28T19:10:36.130086Z",
     "iopub.status.busy": "2021-07-28T19:10:36.129419Z",
     "iopub.status.idle": "2021-07-28T19:10:37.012395Z",
     "shell.execute_reply": "2021-07-28T19:10:37.013114Z",
     "shell.execute_reply.started": "2021-07-28T19:06:09.011179Z"
    },
    "papermill": {
     "duration": 0.989158,
     "end_time": "2021-07-28T19:10:37.013323",
     "exception": false,
     "start_time": "2021-07-28T19:10:36.024165",
     "status": "completed"
    },
    "tags": []
   },
   "outputs": [],
   "source": [
    "sm.graphics.tsa.plot_pacf(ecom_df.values.squeeze(), lags=60,\n",
    "                          method='ywunbiased');\n",
    "\n",
    "sm.graphics.tsa.plot_pacf(ecom_df.values.squeeze(), lags=60,\n",
    "                         method='ols');"
   ]
  },
  {
   "cell_type": "code",
   "execution_count": null,
   "id": "dc7cfbab",
   "metadata": {
    "execution": {
     "iopub.execute_input": "2021-07-28T19:10:37.163654Z",
     "iopub.status.busy": "2021-07-28T19:10:37.162730Z",
     "iopub.status.idle": "2021-07-28T19:10:37.938359Z",
     "shell.execute_reply": "2021-07-28T19:10:37.937833Z",
     "shell.execute_reply.started": "2021-07-28T19:06:09.789177Z"
    },
    "papermill": {
     "duration": 0.850769,
     "end_time": "2021-07-28T19:10:37.938504",
     "exception": false,
     "start_time": "2021-07-28T19:10:37.087735",
     "status": "completed"
    },
    "tags": []
   },
   "outputs": [],
   "source": [
    "# Change frequency to day\n",
    "ecom_df = new_dataset.asfreq('d')\n",
    "\n",
    "# Set style for seaborn plot\n",
    "sns.set_style('darkgrid')\n",
    "\n",
    "# Add automatic datetime converters\n",
    "pd.plotting.register_matplotlib_converters()\n",
    "\n",
    "# Default figure size\n",
    "sns.mpl.rc('figure',figsize=(12, 6))\n",
    "\n",
    "# Plot daily max temps\n",
    "fig, ax = plt.subplots()\n",
    "ax = ecom_df.plot(ax=ax)\n",
    "\n",
    "# Creating model \n",
    "model = AutoReg(ecom_df['grand_total'],30)\n",
    "model_fit = model.fit()\n",
    "\n",
    "# Define training and testing area\n",
    "len(ecom_df) # 778 observations\n",
    "train_df = ecom_df.iloc[:620] \n",
    "test_df = ecom_df.iloc[620:] \n",
    "\n",
    "# Define training model for 159 days \n",
    "train_model = AutoReg(ecom_df['grand_total'], 159).fit(cov_type=\"HC0\")\n",
    "\n",
    "# Define start and end for prediction \n",
    "start = len(train_df)\n",
    "end = len(train_df) + len(test_df) - 1\n",
    "prediction = train_model.predict(start=start, end=end, dynamic=True)\n",
    "# Plot testing data with prediction\n",
    "ax = test_df.plot(ax=ax) # Orange\n",
    "ax = prediction.plot(ax=ax) # Green"
   ]
  },
  {
   "cell_type": "markdown",
   "id": "00eebe17",
   "metadata": {
    "papermill": {
     "duration": 0.075141,
     "end_time": "2021-07-28T19:10:38.089922",
     "exception": false,
     "start_time": "2021-07-28T19:10:38.014781",
     "status": "completed"
    },
    "tags": []
   },
   "source": [
    "# Predicting Sales on Daily Time frame"
   ]
  },
  {
   "cell_type": "code",
   "execution_count": null,
   "id": "98cff4e6",
   "metadata": {
    "execution": {
     "iopub.execute_input": "2021-07-28T19:10:38.268882Z",
     "iopub.status.busy": "2021-07-28T19:10:38.268116Z",
     "iopub.status.idle": "2021-07-28T19:10:39.110223Z",
     "shell.execute_reply": "2021-07-28T19:10:39.110830Z",
     "shell.execute_reply.started": "2021-07-28T19:06:10.547716Z"
    },
    "papermill": {
     "duration": 0.94378,
     "end_time": "2021-07-28T19:10:39.111007",
     "exception": false,
     "start_time": "2021-07-28T19:10:38.167227",
     "status": "completed"
    },
    "tags": []
   },
   "outputs": [],
   "source": [
    "sns.mpl.rc('figure',figsize=(12, 6))\n",
    "fig, ax = plt.subplots()\n",
    "ax = ecom_df.plot(ax=ax)\n",
    "model = AutoReg(ecom_df['grand_total'], 30)\n",
    "model_fit = model.fit()\n",
    "len(ecom_df) # 778 observations\n",
    "train_df = ecom_df.iloc[:620] # 80%\n",
    "test_df = ecom_df.iloc[620:] # Last 20%\n",
    "# Define training model for 159 days \n",
    "train_model = AutoReg(ecom_df['grand_total'], 159).fit(cov_type=\"HC0\")\n",
    "start = len(train_df)\n",
    "end = len(train_df) + len(test_df) - 1\n",
    "prediction = train_model.predict(start=start, end=end, dynamic=True)\n",
    "ax = test_df.plot(ax=ax) \n",
    "ax = prediction.plot(ax=ax) \n",
    "\n",
    "# Predict 100 days into the future\n",
    "forecast = train_model.predict(start=end, end=end+100, dynamic=True)\n",
    "forecast.plot(ax=ax) "
   ]
  },
  {
   "cell_type": "markdown",
   "id": "8d055eb9",
   "metadata": {
    "papermill": {
     "duration": 0.078355,
     "end_time": "2021-07-28T19:10:39.268193",
     "exception": false,
     "start_time": "2021-07-28T19:10:39.189838",
     "status": "completed"
    },
    "tags": []
   },
   "source": [
    "**In Above Graph, Different line Colours are used**\n",
    "1. Red line shows predictions\n",
    "2. Green Line shows training part of Dataset\n",
    "3. Orange Line shows Test part of Dataset"
   ]
  },
  {
   "cell_type": "code",
   "execution_count": null,
   "id": "559d5a45",
   "metadata": {
    "execution": {
     "iopub.execute_input": "2021-07-28T19:10:39.430066Z",
     "iopub.status.busy": "2021-07-28T19:10:39.429408Z",
     "iopub.status.idle": "2021-07-28T19:10:39.439246Z",
     "shell.execute_reply": "2021-07-28T19:10:39.438738Z",
     "shell.execute_reply.started": "2021-07-28T19:06:11.370179Z"
    },
    "papermill": {
     "duration": 0.091938,
     "end_time": "2021-07-28T19:10:39.439386",
     "exception": false,
     "start_time": "2021-07-28T19:10:39.347448",
     "status": "completed"
    },
    "tags": []
   },
   "outputs": [],
   "source": [
    "mean_absolute_error(test_df, prediction)"
   ]
  },
  {
   "cell_type": "code",
   "execution_count": null,
   "id": "87542e28",
   "metadata": {
    "execution": {
     "iopub.execute_input": "2021-07-28T19:10:39.610798Z",
     "iopub.status.busy": "2021-07-28T19:10:39.610149Z",
     "iopub.status.idle": "2021-07-28T19:10:39.615781Z",
     "shell.execute_reply": "2021-07-28T19:10:39.615220Z",
     "shell.execute_reply.started": "2021-07-28T19:06:11.382222Z"
    },
    "papermill": {
     "duration": 0.097404,
     "end_time": "2021-07-28T19:10:39.615946",
     "exception": false,
     "start_time": "2021-07-28T19:10:39.518542",
     "status": "completed"
    },
    "tags": []
   },
   "outputs": [],
   "source": [
    "ecom_df = new_dataset.asfreq('m')\n",
    "ecom_df.head()"
   ]
  },
  {
   "cell_type": "markdown",
   "id": "e275e870",
   "metadata": {
    "papermill": {
     "duration": 0.081422,
     "end_time": "2021-07-28T19:10:39.777729",
     "exception": false,
     "start_time": "2021-07-28T19:10:39.696307",
     "status": "completed"
    },
    "tags": []
   },
   "source": [
    "# Predicting Sales on Monthly Time frame"
   ]
  },
  {
   "cell_type": "code",
   "execution_count": null,
   "id": "4a8d07be",
   "metadata": {
    "execution": {
     "iopub.execute_input": "2021-07-28T19:10:39.949755Z",
     "iopub.status.busy": "2021-07-28T19:10:39.949069Z",
     "iopub.status.idle": "2021-07-28T19:10:40.463256Z",
     "shell.execute_reply": "2021-07-28T19:10:40.463816Z",
     "shell.execute_reply.started": "2021-07-28T19:06:11.402613Z"
    },
    "papermill": {
     "duration": 0.606544,
     "end_time": "2021-07-28T19:10:40.464047",
     "exception": false,
     "start_time": "2021-07-28T19:10:39.857503",
     "status": "completed"
    },
    "tags": []
   },
   "outputs": [],
   "source": [
    "# Set style for seaborn plot\n",
    "sns.set_style('darkgrid')\n",
    "\n",
    "# Add automatic datetime converters\n",
    "pd.plotting.register_matplotlib_converters()\n",
    "\n",
    "# Default figure size\n",
    "sns.mpl.rc('figure',figsize=(12, 6))\n",
    "\n",
    "# Plot monthly max temps\n",
    "fig, ax = plt.subplots()\n",
    "ax = ecom_df.plot(ax=ax)\n",
    "\n",
    "# Creating model \n",
    "model = AutoReg(ecom_df['grand_total'],10)\n",
    "model_fit = model.fit()\n",
    "\n",
    "# Define training and testing area\n",
    "len(ecom_df) # 25 observations\n",
    "train_df = ecom_df.iloc[:16] \n",
    "test_df = ecom_df.iloc[16:] \n",
    "\n",
    "# Define training model for 5 days \n",
    "train_model = AutoReg(ecom_df['grand_total'], 5).fit(cov_type=\"HC0\")\n",
    "\n",
    "# Define start and end for prediction \n",
    "start = len(train_df)\n",
    "end = len(train_df) + len(test_df) - 1\n",
    "prediction = train_model.predict(start=start, end=end, dynamic=True)\n",
    "\n",
    "# Predict 4 months into the future\n",
    "forecast = train_model.predict(start=end, end=end+4, dynamic=True)\n",
    "forecast.plot(ax=ax)"
   ]
  },
  {
   "cell_type": "code",
   "execution_count": null,
   "id": "6ee17e7c",
   "metadata": {
    "execution": {
     "iopub.execute_input": "2021-07-28T19:10:40.644500Z",
     "iopub.status.busy": "2021-07-28T19:10:40.643805Z",
     "iopub.status.idle": "2021-07-28T19:10:40.651686Z",
     "shell.execute_reply": "2021-07-28T19:10:40.652406Z",
     "shell.execute_reply.started": "2021-07-28T19:06:11.936172Z"
    },
    "papermill": {
     "duration": 0.099717,
     "end_time": "2021-07-28T19:10:40.652734",
     "exception": false,
     "start_time": "2021-07-28T19:10:40.553017",
     "status": "completed"
    },
    "tags": []
   },
   "outputs": [],
   "source": [
    "mean_absolute_error(test_df, prediction)"
   ]
  },
  {
   "cell_type": "markdown",
   "id": "ffc7b573",
   "metadata": {
    "papermill": {
     "duration": 0.092693,
     "end_time": "2021-07-28T19:10:40.837806",
     "exception": false,
     "start_time": "2021-07-28T19:10:40.745113",
     "status": "completed"
    },
    "tags": []
   },
   "source": [
    "# Applying SARIMAX Model"
   ]
  },
  {
   "cell_type": "code",
   "execution_count": null,
   "id": "1326729a",
   "metadata": {
    "execution": {
     "iopub.execute_input": "2021-07-28T19:10:41.018194Z",
     "iopub.status.busy": "2021-07-28T19:10:41.017499Z",
     "iopub.status.idle": "2021-07-28T19:10:41.028339Z",
     "shell.execute_reply": "2021-07-28T19:10:41.028946Z",
     "shell.execute_reply.started": "2021-07-28T19:06:11.946583Z"
    },
    "papermill": {
     "duration": 0.10288,
     "end_time": "2021-07-28T19:10:41.029171",
     "exception": false,
     "start_time": "2021-07-28T19:10:40.926291",
     "status": "completed"
    },
    "tags": []
   },
   "outputs": [],
   "source": [
    "new_dataset = datasetlogscaleminusmovingaverage.to_frame()\n",
    "ecom_df = new_dataset.asfreq('d')\n",
    "ecom_df.head()"
   ]
  },
  {
   "cell_type": "code",
   "execution_count": null,
   "id": "cb188224",
   "metadata": {
    "execution": {
     "iopub.execute_input": "2021-07-28T19:10:41.204962Z",
     "iopub.status.busy": "2021-07-28T19:10:41.204283Z",
     "iopub.status.idle": "2021-07-28T19:10:44.602715Z",
     "shell.execute_reply": "2021-07-28T19:10:44.601994Z",
     "shell.execute_reply.started": "2021-07-28T19:06:11.971180Z"
    },
    "papermill": {
     "duration": 3.48561,
     "end_time": "2021-07-28T19:10:44.602905",
     "exception": false,
     "start_time": "2021-07-28T19:10:41.117295",
     "status": "completed"
    },
    "tags": []
   },
   "outputs": [],
   "source": [
    "ecom_df.plot(figsize=(16,8))\n",
    "# We verify that there is a seasonal component\n",
    "res = seasonal_decompose(ecom_df, model='add')\n",
    "res.plot()"
   ]
  },
  {
   "cell_type": "code",
   "execution_count": null,
   "id": "cf958bdb",
   "metadata": {
    "execution": {
     "iopub.execute_input": "2021-07-28T19:10:44.829659Z",
     "iopub.status.busy": "2021-07-28T19:10:44.822480Z",
     "iopub.status.idle": "2021-07-28T19:10:56.136363Z",
     "shell.execute_reply": "2021-07-28T19:10:56.135402Z",
     "shell.execute_reply.started": "2021-07-28T19:06:15.444140Z"
    },
    "papermill": {
     "duration": 11.429428,
     "end_time": "2021-07-28T19:10:56.137051",
     "exception": false,
     "start_time": "2021-07-28T19:10:44.707623",
     "status": "completed"
    },
    "tags": []
   },
   "outputs": [],
   "source": [
    "#Auto Arima\n",
    "auto_arima(ecom_df, seasonal=True, m=12, trace=True).summary()"
   ]
  },
  {
   "cell_type": "code",
   "execution_count": null,
   "id": "98f833b8",
   "metadata": {
    "execution": {
     "iopub.execute_input": "2021-07-28T19:10:56.366023Z",
     "iopub.status.busy": "2021-07-28T19:10:56.364232Z",
     "iopub.status.idle": "2021-07-28T19:10:57.777447Z",
     "shell.execute_reply": "2021-07-28T19:10:57.776785Z",
     "shell.execute_reply.started": "2021-07-28T19:06:26.689021Z"
    },
    "papermill": {
     "duration": 1.532367,
     "end_time": "2021-07-28T19:10:57.777606",
     "exception": false,
     "start_time": "2021-07-28T19:10:56.245239",
     "status": "completed"
    },
    "tags": []
   },
   "outputs": [],
   "source": [
    "train_df = ecom_df.iloc[:583] # 80%\n",
    "test_df = ecom_df.iloc[583:] # 20%\n",
    "model = SARIMAX(train_df, order=(0, 1, 3),\n",
    "               seasonal_order=(1, 0, 1, 12))\n",
    "res = model.fit()\n",
    "start = len(train_df)\n",
    "end = len(train_df) + len(test_df) - 1\n",
    "forecast = res.predict(start, end )\n",
    "forecast = pd.DataFrame(forecast,index = test_df.index,columns=['Prediction'])\n",
    "plt.plot(train_df, label='Train')\n",
    "plt.plot(test_df, label='Test')\n",
    "plt.plot(forecast, label='Prediction')\n",
    "plt.show()"
   ]
  },
  {
   "cell_type": "code",
   "execution_count": null,
   "id": "da4e4bb8",
   "metadata": {
    "execution": {
     "iopub.execute_input": "2021-07-28T19:10:58.021914Z",
     "iopub.status.busy": "2021-07-28T19:10:58.021159Z",
     "iopub.status.idle": "2021-07-28T19:10:59.847475Z",
     "shell.execute_reply": "2021-07-28T19:10:59.847982Z",
     "shell.execute_reply.started": "2021-07-28T19:06:27.987937Z"
    },
    "papermill": {
     "duration": 1.950441,
     "end_time": "2021-07-28T19:10:59.848180",
     "exception": false,
     "start_time": "2021-07-28T19:10:57.897739",
     "status": "completed"
    },
    "tags": []
   },
   "outputs": [],
   "source": [
    "# Predict the future\n",
    "model = SARIMAX(ecom_df, order=(0, 1, 3),\n",
    "               seasonal_order=(1, 0, 1, 12))\n",
    "res = model.fit()\n",
    "future = res.predict(len(ecom_df), len(ecom_df)+12, \n",
    "                    typ='levels').rename('Future')\n",
    "test_df.plot(legend=True, figsize=(16,8))\n",
    "future.plot(legend=True)"
   ]
  },
  {
   "cell_type": "markdown",
   "id": "7ca1a24b",
   "metadata": {
    "papermill": {
     "duration": 0.106126,
     "end_time": "2021-07-28T19:11:00.061419",
     "exception": false,
     "start_time": "2021-07-28T19:10:59.955293",
     "status": "completed"
    },
    "tags": []
   },
   "source": [
    "### This model works slightly better than Above model"
   ]
  },
  {
   "cell_type": "markdown",
   "id": "836265d3",
   "metadata": {
    "papermill": {
     "duration": 0.104682,
     "end_time": "2021-07-28T19:11:00.271881",
     "exception": false,
     "start_time": "2021-07-28T19:11:00.167199",
     "status": "completed"
    },
    "tags": []
   },
   "source": [
    "# TRENDS\n",
    "\n",
    "### Lets find out overall trend"
   ]
  },
  {
   "cell_type": "code",
   "execution_count": null,
   "id": "2ac8144f",
   "metadata": {
    "execution": {
     "iopub.execute_input": "2021-07-28T19:11:00.485364Z",
     "iopub.status.busy": "2021-07-28T19:11:00.484648Z",
     "iopub.status.idle": "2021-07-28T19:11:00.881249Z",
     "shell.execute_reply": "2021-07-28T19:11:00.880581Z",
     "shell.execute_reply.started": "2021-07-28T19:06:29.759703Z"
    },
    "papermill": {
     "duration": 0.504649,
     "end_time": "2021-07-28T19:11:00.881418",
     "exception": false,
     "start_time": "2021-07-28T19:11:00.376769",
     "status": "completed"
    },
    "tags": []
   },
   "outputs": [],
   "source": [
    "dt = dt.sort_values('created_at')\n",
    "#Adding New Features\n",
    "dtg = dt.groupby('created_at')['grand_total'].sum().reset_index()\n",
    "dtq = dt.groupby('created_at')['qty_ordered'].sum().reset_index()\n",
    "dtd = dt.groupby('created_at')['discount_amount'].sum().reset_index()\n",
    "#Comput count for non numeric values\n",
    "dts = dt.groupby('created_at')['sku'].count().reset_index() \n",
    "dtst = dt.groupby('created_at')['status'].count().reset_index()\n",
    "# new data set\n",
    "p = pd.DataFrame(dtg) \n",
    "p['qty_ordered'] = dtq['qty_ordered']\n",
    "p['discount_amount'] = dtd['discount_amount']\n",
    "p['sku'] = dts['sku']\n",
    "p['status'] = dtst['status']\n",
    "#Cumulative Sum\n",
    "p['cum_grand_total'] = p['grand_total'].cumsum()\n",
    "p['cum_qty_ordered'] = p['qty_ordered'].cumsum()\n",
    "p['cum_discount_amount'] = p['discount_amount'].cumsum()\n",
    "p['cum_sku_cnt'] = p['sku'].cumsum()\n",
    "p['cum_status_cnt'] = p['status'].cumsum()\n",
    "# Date features\n",
    "p['Dateofmonth'] = p['created_at'].dt.day\n",
    "p['Month'] = p['created_at'].dt.month\n",
    "p['Week'] = p['created_at'].dt.week\n",
    "p['Dayofweek'] = p['created_at'].dt.dayofweek # 0 = monday.\n",
    "p['Weekdayflg'] = (p['Dayofweek'] // 5 != 1).astype(float)\n",
    "p['Month'] = p['created_at'].dt.month\n",
    "p['Quarter'] = p['created_at'].dt.quarter\n",
    "p['Dayofyear'] = p['created_at'].dt.dayofyear\n",
    "\n",
    "p.head()"
   ]
  },
  {
   "cell_type": "code",
   "execution_count": null,
   "id": "574d728d",
   "metadata": {
    "execution": {
     "iopub.execute_input": "2021-07-28T19:11:01.123432Z",
     "iopub.status.busy": "2021-07-28T19:11:01.122482Z",
     "iopub.status.idle": "2021-07-28T19:11:01.127729Z",
     "shell.execute_reply": "2021-07-28T19:11:01.127145Z",
     "shell.execute_reply.started": "2021-07-28T19:06:30.157318Z"
    },
    "papermill": {
     "duration": 0.134036,
     "end_time": "2021-07-28T19:11:01.127893",
     "exception": false,
     "start_time": "2021-07-28T19:11:00.993857",
     "status": "completed"
    },
    "tags": []
   },
   "outputs": [],
   "source": [
    "trend_df = p.iloc[:, 0:2]  \n",
    "trend_df.head()"
   ]
  },
  {
   "cell_type": "code",
   "execution_count": null,
   "id": "4f93f115",
   "metadata": {
    "execution": {
     "iopub.execute_input": "2021-07-28T19:11:01.358081Z",
     "iopub.status.busy": "2021-07-28T19:11:01.357311Z",
     "iopub.status.idle": "2021-07-28T19:11:01.372073Z",
     "shell.execute_reply": "2021-07-28T19:11:01.372911Z",
     "shell.execute_reply.started": "2021-07-28T19:06:30.170004Z"
    },
    "papermill": {
     "duration": 0.137816,
     "end_time": "2021-07-28T19:11:01.373106",
     "exception": false,
     "start_time": "2021-07-28T19:11:01.235290",
     "status": "completed"
    },
    "tags": []
   },
   "outputs": [],
   "source": [
    "#Creating another column\n",
    "trend_df['Year_month'] = trend_df['created_at'].apply(lambda x: x.strftime('%Y-%m'))\n",
    "trend_df.head()"
   ]
  },
  {
   "cell_type": "code",
   "execution_count": null,
   "id": "a108c525",
   "metadata": {
    "execution": {
     "iopub.execute_input": "2021-07-28T19:11:01.612291Z",
     "iopub.status.busy": "2021-07-28T19:11:01.611276Z",
     "iopub.status.idle": "2021-07-28T19:11:01.620802Z",
     "shell.execute_reply": "2021-07-28T19:11:01.621315Z",
     "shell.execute_reply.started": "2021-07-28T19:06:30.204093Z"
    },
    "papermill": {
     "duration": 0.13173,
     "end_time": "2021-07-28T19:11:01.621509",
     "exception": false,
     "start_time": "2021-07-28T19:11:01.489779",
     "status": "completed"
    },
    "tags": []
   },
   "outputs": [],
   "source": [
    "#Grouping Month Year\n",
    "trend_df = trend_df.groupby('Year_month').sum()['grand_total'].reset_index()"
   ]
  },
  {
   "cell_type": "code",
   "execution_count": null,
   "id": "d73a679c",
   "metadata": {
    "execution": {
     "iopub.execute_input": "2021-07-28T19:11:01.871784Z",
     "iopub.status.busy": "2021-07-28T19:11:01.871038Z",
     "iopub.status.idle": "2021-07-28T19:11:02.235414Z",
     "shell.execute_reply": "2021-07-28T19:11:02.235974Z",
     "shell.execute_reply.started": "2021-07-28T19:06:30.219014Z"
    },
    "papermill": {
     "duration": 0.502765,
     "end_time": "2021-07-28T19:11:02.236156",
     "exception": false,
     "start_time": "2021-07-28T19:11:01.733391",
     "status": "completed"
    },
    "tags": []
   },
   "outputs": [],
   "source": [
    "plt.figure(figsize=(15,6))\n",
    "plt.plot(trend_df['Year_month'],trend_df['grand_total'],color='#b80045')\n",
    "plt.xticks(rotation='vertical',size=8)\n",
    "plt.show()"
   ]
  },
  {
   "cell_type": "markdown",
   "id": "77f1c55d",
   "metadata": {
    "papermill": {
     "duration": 0.108814,
     "end_time": "2021-07-28T19:11:02.455235",
     "exception": false,
     "start_time": "2021-07-28T19:11:02.346421",
     "status": "completed"
    },
    "tags": []
   },
   "source": [
    "### We observe overall trend from july-2016 to aug-2018 and concluded following points\n",
    "* #### Purchases increases in last Three months ( October,November and December ) of 2016 and 2017\n",
    "* #### Most e-commerce buyers purchases products in November\n",
    "* #### November is most suitable month for sellers to market their products\n",
    "* #### Overall volume of ecommerce sales is increasing year by year \n",
    "* #### For example,you can compare first six months of 2017 with 2018"
   ]
  },
  {
   "cell_type": "code",
   "execution_count": null,
   "id": "f1915e49",
   "metadata": {
    "execution": {
     "iopub.execute_input": "2021-07-28T19:11:02.676676Z",
     "iopub.status.busy": "2021-07-28T19:11:02.676054Z",
     "iopub.status.idle": "2021-07-28T19:11:02.680745Z",
     "shell.execute_reply": "2021-07-28T19:11:02.681268Z",
     "shell.execute_reply.started": "2021-07-28T19:06:30.582779Z"
    },
    "papermill": {
     "duration": 0.11732,
     "end_time": "2021-07-28T19:11:02.681452",
     "exception": false,
     "start_time": "2021-07-28T19:11:02.564132",
     "status": "completed"
    },
    "tags": []
   },
   "outputs": [],
   "source": [
    "# If you like my notebook,don,t forget to upvote."
   ]
  },
  {
   "cell_type": "code",
   "execution_count": null,
   "id": "93f266f1",
   "metadata": {},
   "outputs": [],
   "source": []
  }
 ],
 "metadata": {
  "kernelspec": {
   "display_name": "Python 3 (ipykernel)",
   "language": "python",
   "name": "python3"
  },
  "language_info": {
   "codemirror_mode": {
    "name": "ipython",
    "version": 3
   },
   "file_extension": ".py",
   "mimetype": "text/x-python",
   "name": "python",
   "nbconvert_exporter": "python",
   "pygments_lexer": "ipython3",
   "version": "3.9.13"
  },
  "papermill": {
   "default_parameters": {},
   "duration": 70.92949,
   "end_time": "2021-07-28T19:11:04.955355",
   "environment_variables": {},
   "exception": null,
   "input_path": "__notebook__.ipynb",
   "output_path": "__notebook__.ipynb",
   "parameters": {},
   "start_time": "2021-07-28T19:09:54.025865",
   "version": "2.3.3"
  }
 },
 "nbformat": 4,
 "nbformat_minor": 5
}
